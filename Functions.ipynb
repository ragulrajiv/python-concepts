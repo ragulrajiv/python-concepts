{
 "cells": [
  {
   "cell_type": "markdown",
   "id": "0341ab91-ecfa-4fef-81b0-e7bed0e6c35f",
   "metadata": {},
   "source": [
    "### Functions\n",
    "In python are a fundamental concept that allows you to group a set of statements so you can run them multiple times.  \n",
    "Functions make help make your code modular, reusable , and organized."
   ]
  },
  {
   "cell_type": "markdown",
   "id": "c53bdfe5-7108-4b50-b0b7-7ccff94b6398",
   "metadata": {},
   "source": [
    "### Defining a function\n",
    "A function is defined using the def keyword, followed by the function name, perentheses(),and a colon:.  \n",
    "the body code that executes when the function is celled."
   ]
  },
  {
   "cell_type": "markdown",
   "id": "dbdc1d32-4b74-49cb-86da-f12193131cb4",
   "metadata": {},
   "source": [
    "#### Function parameters and arguments\n",
    "Two types of functions\n",
    "1. User defined function\n",
    "2. Built in function\n"
   ]
  },
  {
   "cell_type": "markdown",
   "id": "5845b206-8b75-4c09-a595-67913c895a04",
   "metadata": {},
   "source": [
    "### Built in functions\n",
    "##### What Are Built-in Functions?\n",
    "These are predefined functions in Python.\n",
    "\n",
    "You can use them without importing any module.\n",
    "\n",
    "They help perform common tasks like converting types, working with numbers, handling strings, etc."
   ]
  },
  {
   "cell_type": "code",
   "execution_count": 4,
   "id": "f31082e9-ddde-4733-9567-d5ef5f4e50ad",
   "metadata": {},
   "outputs": [],
   "source": [
    "# print(dir(__builtins__))"
   ]
  },
  {
   "cell_type": "markdown",
   "id": "6c221399-7fa6-4385-9a7c-e1a6dd04611a",
   "metadata": {},
   "source": [
    "##### Function\tDescription\tExample  \n",
    "print()\tDisplays output\tprint(\"Hello\")  \n",
    "len()\tReturns length of an object\tlen(\"Python\") → 6  \n",
    "type()\tReturns type of object\ttype(5) → <class 'int'>    \n",
    "input()\tTakes user input\tname = input(\"Enter name: \")  \n",
    "int(), float(), str()\tType conversion\tint(\"5\"), str(10)  \n",
    "max(), min()\tFinds max/min value\tmax([2, 5, 1])  \n",
    "sum()\tAdds values in an iterable\tsum([1, 2, 3]) → 6  \n",
    "sorted()\tReturns a sorted list\tsorted([3, 1, 2])  \n",
    "range()\tGenerates a range of numbers\tlist(range(5)) → [0, 1, 2, 3, 4]  \n",
    "abs()\tReturns absolute value\tabs(-7) → 7  \n",
    "round()\tRounds a number\tround(3.456, 2) → 3.46  \n",
    "help()\tOpens help info\thelp(print)  \n",
    "eval()\tEvaluates a string as code\teval(\"5+3\") → 8  \n",
    "isinstance()\tChecks data type\tisinstance(5, int) → True  "
   ]
  },
  {
   "cell_type": "markdown",
   "id": "bef581a9-ab73-4b4a-afdb-591ba3a37f5f",
   "metadata": {},
   "source": [
    "##### Is def a built-in function?\n",
    "No, def is not a built-in function — it is a keyword in Python.  \n",
    "#####  What is def then?\n",
    "def is a Python keyword used to define a function.  \n",
    "It's part of Python’s syntax, not something you can \"call\" like a function."
   ]
  },
  {
   "cell_type": "code",
   "execution_count": 1,
   "id": "d30df568-bdf7-44f9-8a9c-cbca6b0780eb",
   "metadata": {},
   "outputs": [
    {
     "name": "stdout",
     "output_type": "stream",
     "text": [
      "Hello\n"
     ]
    }
   ],
   "source": [
    "def greet():\n",
    "    print('Hello')\n",
    "greet()    "
   ]
  },
  {
   "cell_type": "code",
   "execution_count": 3,
   "id": "e309bbcd-2aa6-466e-a487-b8efa1468cd6",
   "metadata": {},
   "outputs": [
    {
     "name": "stdout",
     "output_type": "stream",
     "text": [
      "Naveen\n"
     ]
    }
   ],
   "source": [
    "def my_name():\n",
    "    print('Naveen')\n",
    "my_name()    "
   ]
  },
  {
   "cell_type": "code",
   "execution_count": 5,
   "id": "25623689-efaf-48b5-91fd-63e1b74da880",
   "metadata": {},
   "outputs": [
    {
     "name": "stdout",
     "output_type": "stream",
     "text": [
      "Hello\n",
      "Naveen\n"
     ]
    }
   ],
   "source": [
    "greet()\n",
    "my_name()"
   ]
  },
  {
   "cell_type": "markdown",
   "id": "eb778abd-5d8c-42d6-b8ef-229ec5d0c7d2",
   "metadata": {},
   "source": [
    "##### What are Arguments?\n",
    "Arguments are the values you pass into a function when you call it.  \n",
    "##### Types of Arguments in Python:\n",
    "Type\tDescription\tExample\n",
    "1. Positional\tMatched by position/order\tgreet(\"Amit\")  \n",
    "2. Keyword\tMatched by name\tgreet(name=\"Amit\")\n",
    "3. Default\tUses a default value if none provided\tdef greet(name=\"Guest\")\n",
    "4. Variable-length (*args)\tAccepts multiple positional arguments\tdef add(*nums):\n",
    "5. Variable-length (**kwargs)\tAccepts multiple keyword arguments\tdef show_info(**details):"
   ]
  },
  {
   "cell_type": "code",
   "execution_count": 13,
   "id": "f9697967-7b0b-4b59-858d-5889ee991299",
   "metadata": {},
   "outputs": [
    {
     "name": "stdout",
     "output_type": "stream",
     "text": [
      "8\n"
     ]
    }
   ],
   "source": [
    "# positional arguments\n",
    "def add(a,b):\n",
    "    return a+b\n",
    "print(add(5,3))    "
   ]
  },
  {
   "cell_type": "code",
   "execution_count": 15,
   "id": "59d6c52e-3a70-462c-b8fe-9b434d70f041",
   "metadata": {},
   "outputs": [
    {
     "name": "stdout",
     "output_type": "stream",
     "text": [
      "Name: kumar, Age: 22\n"
     ]
    }
   ],
   "source": [
    "# keyword arguments\n",
    "def student(name,age):\n",
    "    print(f\"Name: {name}, Age: {age}\")\n",
    "student(age=22,name=\"kumar\") # order doesnt matter here  "
   ]
  },
  {
   "cell_type": "code",
   "execution_count": 17,
   "id": "10216205-a7f2-4762-9796-b1a5f54174e0",
   "metadata": {},
   "outputs": [
    {
     "name": "stdout",
     "output_type": "stream",
     "text": [
      "Hello Guest\n",
      "Hello Kumar\n"
     ]
    }
   ],
   "source": [
    "# Default arguments\n",
    "def Greet(name=\"Guest\"):\n",
    "    print(\"Hello\",name)\n",
    "Greet()\n",
    "Greet(\"Kumar\")"
   ]
  },
  {
   "cell_type": "code",
   "execution_count": 19,
   "id": "f01bada8-271d-45c7-9188-f8180e786709",
   "metadata": {},
   "outputs": [
    {
     "name": "stdout",
     "output_type": "stream",
     "text": [
      "150\n"
     ]
    }
   ],
   "source": [
    "# arbitrary positional arguments\n",
    "def total(*numbers):\n",
    "    return sum(numbers)\n",
    "print(total(10,20,30,40,50))    \n"
   ]
  },
  {
   "cell_type": "code",
   "execution_count": 21,
   "id": "80749ed8-0b14-42d7-9d06-9812185a56ab",
   "metadata": {},
   "outputs": [
    {
     "name": "stdout",
     "output_type": "stream",
     "text": [
      "name: Amit\n",
      "age: 25\n",
      "city: Delhi\n"
     ]
    }
   ],
   "source": [
    "# arbitrary keyword arguments\n",
    "def profile(**info):\n",
    "    for key, value in info.items():\n",
    "        print(f\"{key}: {value}\")\n",
    "\n",
    "profile(name=\"Amit\", age=25, city=\"Delhi\")\n"
   ]
  },
  {
   "cell_type": "code",
   "execution_count": 9,
   "id": "8dae636a-cd3b-4399-9004-0a18df6b3e09",
   "metadata": {},
   "outputs": [
    {
     "name": "stdout",
     "output_type": "stream",
     "text": [
      "Good Morning,kumar\n"
     ]
    }
   ],
   "source": [
    "def greet(arg):\n",
    "    print(f\"Good Morning,{arg}\")\n",
    "greet('kumar')    "
   ]
  },
  {
   "cell_type": "code",
   "execution_count": 23,
   "id": "9942f651-1518-4046-8fe8-99a7979c975f",
   "metadata": {},
   "outputs": [
    {
     "name": "stdout",
     "output_type": "stream",
     "text": [
      "add:50\n",
      "sub:10\n"
     ]
    }
   ],
   "source": [
    "# return statement\n",
    "# functions can return a value using the return statement\n",
    "def operations(a,b):\n",
    "    return {\n",
    "        \"add\":a+b,\n",
    "        \"sub\":a-b\n",
    "    }\n",
    "results=operations(30,20)\n",
    "for os,re in results.items():\n",
    "    print(f\"{os}:{re}\")"
   ]
  },
  {
   "cell_type": "code",
   "execution_count": 29,
   "id": "479084a4-71f2-46d1-a758-7ba0e17ddc79",
   "metadata": {},
   "outputs": [
    {
     "name": "stdin",
     "output_type": "stream",
     "text": [
      "Enter first number 5\n",
      "Enter second number 6\n"
     ]
    },
    {
     "name": "stdout",
     "output_type": "stream",
     "text": [
      "Arithmetic:11\n",
      "Comparison:False\n",
      "Logical:True\n",
      "Bitwise:4\n",
      "Membership:False\n",
      "Identity:False\n",
      "Ternary:B is bigger \n"
     ]
    }
   ],
   "source": [
    "def show_all(a, b):\n",
    "    return {\n",
    "        \"Arithmetic\": a + b,\n",
    "        \"Comparison\": a == b,\n",
    "        \"Logical\": a > 0 and b > 0,\n",
    "        \"Bitwise\": a & b,\n",
    "        \"Membership\": a in [1, 2, 3],\n",
    "        \"Identity\": a is b,\n",
    "        \"Ternary\": \"A is bigger\" if a > b else \"B is bigger \",\n",
    "    }\n",
    "a=int(input(\"Enter first number\"))\n",
    "b=int(input(\"Enter second number\"))\n",
    "results=show_all(a, b)\n",
    "for op, result in results.items():\n",
    "    print(f\"{op}:{result}\")"
   ]
  },
  {
   "cell_type": "code",
   "execution_count": 20,
   "id": "6926ffb2-51b1-4d51-92dd-0979fab39dc7",
   "metadata": {},
   "outputs": [
    {
     "name": "stdout",
     "output_type": "stream",
     "text": [
      "4.0\n"
     ]
    }
   ],
   "source": [
    "def div(a,b):\n",
    "    return a/b\n",
    "result=div(20,5)\n",
    "print(result)"
   ]
  },
  {
   "cell_type": "code",
   "execution_count": 27,
   "id": "26b59d52-57b7-474b-90c3-5e4aa0d21b38",
   "metadata": {},
   "outputs": [
    {
     "name": "stdout",
     "output_type": "stream",
     "text": [
      "{136, 76}\n"
     ]
    }
   ],
   "source": [
    "def add(*all): # arguments\n",
    "    return {\n",
    "        sum(all),\n",
    "        max(all)\n",
    "    }\n",
    "print(add(12,45,76,3))    "
   ]
  },
  {
   "cell_type": "markdown",
   "id": "452f35ef-1795-445b-8996-e52eb7d60064",
   "metadata": {},
   "source": [
    "#### lambda functions\n",
    "Lambda functions are small anonymous functions defined with a lambda keyword  \n",
    "it cannot extend more than one row"
   ]
  },
  {
   "cell_type": "code",
   "execution_count": 33,
   "id": "10f4601f-637c-479c-bcfe-740d1ff0f9af",
   "metadata": {},
   "outputs": [
    {
     "name": "stdout",
     "output_type": "stream",
     "text": [
      "8\n"
     ]
    }
   ],
   "source": [
    "add=lambda a,b:a+b\n",
    "print(add(5,3))"
   ]
  },
  {
   "cell_type": "code",
   "execution_count": 40,
   "id": "824a1936-27dd-4b6e-8e9f-33e57fd97956",
   "metadata": {},
   "outputs": [
    {
     "name": "stdout",
     "output_type": "stream",
     "text": [
      "15\n"
     ]
    }
   ],
   "source": [
    "x=lambda b:b+10\n",
    "print(x(5))"
   ]
  },
  {
   "cell_type": "code",
   "execution_count": 42,
   "id": "09dad8ea-8f56-45ba-bdb5-0f4af92bbce3",
   "metadata": {},
   "outputs": [
    {
     "name": "stdout",
     "output_type": "stream",
     "text": [
      "25\n"
     ]
    }
   ],
   "source": [
    "maximum=lambda a,b:a if a>b else b\n",
    "print(maximum(5,25))"
   ]
  },
  {
   "cell_type": "code",
   "execution_count": 44,
   "id": "424d0e48-c5c8-4f96-8e5c-22b1648cbc8a",
   "metadata": {},
   "outputs": [
    {
     "name": "stdout",
     "output_type": "stream",
     "text": [
      "[1, 4, 9, 16]\n"
     ]
    }
   ],
   "source": [
    "nums = [1, 2, 3, 4]\n",
    "squares = list(map(lambda x: x ** 2, nums))\n",
    "print(squares)  # Output: [1, 4, 9, 16]\n"
   ]
  },
  {
   "cell_type": "code",
   "execution_count": 46,
   "id": "9ff58419-196c-4cb4-b815-fad919a2a5d1",
   "metadata": {},
   "outputs": [
    {
     "name": "stdout",
     "output_type": "stream",
     "text": [
      "[2, 4, 6]\n"
     ]
    }
   ],
   "source": [
    "nums = [1, 2, 3, 4, 5, 6]\n",
    "even_nums = list(filter(lambda x: x % 2 == 0, nums))\n",
    "print(even_nums)  # Output: [2, 4, 6]\n"
   ]
  },
  {
   "cell_type": "code",
   "execution_count": 48,
   "id": "be53789a-315c-4596-bc63-236cd30898e6",
   "metadata": {},
   "outputs": [
    {
     "name": "stdout",
     "output_type": "stream",
     "text": [
      "[('Pooja', 20), ('Ravi', 23), ('Amit', 25)]\n"
     ]
    }
   ],
   "source": [
    "students = [(\"Amit\", 25), (\"Pooja\", 20), (\"Ravi\", 23)]\n",
    "sorted_students = sorted(students, key=lambda x: x[1])\n",
    "print(sorted_students)  # Sorted by age\n"
   ]
  }
 ],
 "metadata": {
  "kernelspec": {
   "display_name": "Python [conda env:base] *",
   "language": "python",
   "name": "conda-base-py"
  },
  "language_info": {
   "codemirror_mode": {
    "name": "ipython",
    "version": 3
   },
   "file_extension": ".py",
   "mimetype": "text/x-python",
   "name": "python",
   "nbconvert_exporter": "python",
   "pygments_lexer": "ipython3",
   "version": "3.12.7"
  }
 },
 "nbformat": 4,
 "nbformat_minor": 5
}
