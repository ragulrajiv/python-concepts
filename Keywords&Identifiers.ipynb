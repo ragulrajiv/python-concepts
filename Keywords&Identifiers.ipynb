{
 "cells": [
  {
   "cell_type": "markdown",
   "id": "6e8c514b-9092-467d-9d4c-dc7e79530344",
   "metadata": {},
   "source": [
    "### KeyWords in python\n",
    "#### Categories of Keywords:\n",
    "Category\tExamples\n",
    "1. Boolean/Constants:\tTrue, False, None\n",
    "2. Conditionals:\tif, else, elif, match, case\n",
    "3. Loops:\tfor, while, break, continue\n",
    "4. Functions:\tdef, return, lambda, yield\n",
    "5. Classes/OOP:\tclass, self, is, super (not a keyword)\n",
    "6. Error Handling:\ttry, except, finally, raise, assert\n",
    "7. Imports:\timport, from, as\n",
    "8. Context Managers:\twith, async, await\n",
    "9. Others:\tpass, del, global, nonlocal, not, and, or, in\n"
   ]
  },
  {
   "cell_type": "markdown",
   "id": "b4b23b5e-f52f-416e-99e3-be808e444774",
   "metadata": {},
   "source": [
    "##### What are Keywords?\n",
    "Keywords are reserved words in Python.\n",
    "\n",
    "You can’t use them as variable names, function names, or identifiers.\n",
    "\n",
    "They have special meaning in the language."
   ]
  },
  {
   "cell_type": "code",
   "execution_count": 1,
   "id": "3e4fd87b-3001-48b3-8b37-aa7a67fab11b",
   "metadata": {},
   "outputs": [
    {
     "name": "stdout",
     "output_type": "stream",
     "text": [
      "['False', 'None', 'True', 'and', 'as', 'assert', 'async', 'await', 'break', 'class', 'continue', 'def', 'del', 'elif', 'else', 'except', 'finally', 'for', 'from', 'global', 'if', 'import', 'in', 'is', 'lambda', 'nonlocal', 'not', 'or', 'pass', 'raise', 'return', 'try', 'while', 'with', 'yield']\n"
     ]
    }
   ],
   "source": [
    "import keyword\n",
    "print(keyword.kwlist)"
   ]
  },
  {
   "cell_type": "markdown",
   "id": "6a90203f-db52-4456-b694-479f3284a77c",
   "metadata": {},
   "source": [
    "### Identifiers"
   ]
  },
  {
   "cell_type": "markdown",
   "id": "e06abf14-8d5e-4eed-a24b-51cca17a815b",
   "metadata": {},
   "source": [
    "##### What is an Identifier?\n",
    "An identifier is the name used to identify:\n",
    "\n",
    "Variables\n",
    "\n",
    "Functions\n",
    "\n",
    "Classes\n",
    "\n",
    "Modules\n",
    "\n",
    "Objects\n",
    "\n",
    "Basically, anything you name in your Python code is an identifier."
   ]
  },
  {
   "cell_type": "markdown",
   "id": "8ce7f4c8-cc2b-4b36-8d27-526910710a65",
   "metadata": {},
   "source": [
    "So in short:\n",
    "✅ Every variable is an identifier\n",
    "❌ But not every identifier is a variable"
   ]
  }
 ],
 "metadata": {
  "kernelspec": {
   "display_name": "Python [conda env:base] *",
   "language": "python",
   "name": "conda-base-py"
  },
  "language_info": {
   "codemirror_mode": {
    "name": "ipython",
    "version": 3
   },
   "file_extension": ".py",
   "mimetype": "text/x-python",
   "name": "python",
   "nbconvert_exporter": "python",
   "pygments_lexer": "ipython3",
   "version": "3.12.7"
  }
 },
 "nbformat": 4,
 "nbformat_minor": 5
}
