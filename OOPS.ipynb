{
 "cells": [
  {
   "cell_type": "raw",
   "id": "f1357159-01fe-44e3-be76-600cbecc9913",
   "metadata": {},
   "source": [
    "CLASS:"
   ]
  },
  {
   "cell_type": "code",
   "execution_count": 13,
   "id": "5d5dd052-c2bd-4686-bf4c-be3e41629b3a",
   "metadata": {},
   "outputs": [
    {
     "name": "stdout",
     "output_type": "stream",
     "text": [
      "the values of p: 20\n"
     ]
    },
    {
     "data": {
      "text/plain": [
       "150"
      ]
     },
     "execution_count": 13,
     "metadata": {},
     "output_type": "execute_result"
    }
   ],
   "source": [
    "class xyz():\n",
    "    p=20        #global variables\n",
    "    q=30        #global variables\n",
    "    def fun1(self):     #method\n",
    "        print('the values of p:',self.p)\n",
    "    def fun2(self,b):     #b is local variable\n",
    "        m=b*self.q\n",
    "        return m\n",
    "object=xyz()\n",
    "object.fun1()\n",
    "object.fun2(5)\n",
    "    \n"
   ]
  },
  {
   "cell_type": "markdown",
   "id": "3576fe76-6f59-44b5-917d-181fab6db0a4",
   "metadata": {},
   "source": [
    "Initialaization of classes:"
   ]
  },
  {
   "cell_type": "code",
   "execution_count": 14,
   "id": "2decdd2f-1846-4391-aa70-d9351e3cff58",
   "metadata": {},
   "outputs": [
    {
     "ename": "SyntaxError",
     "evalue": "invalid syntax (1717942007.py, line 2)",
     "output_type": "error",
     "traceback": [
      "  \u001b[36mCell\u001b[39m\u001b[36m \u001b[39m\u001b[32mIn[14]\u001b[39m\u001b[32m, line 2\u001b[39m\n\u001b[31m    \u001b[39m\u001b[31mdef_init_(self,name):\u001b[39m\n                        ^\n\u001b[31mSyntaxError\u001b[39m\u001b[31m:\u001b[39m invalid syntax\n"
     ]
    }
   ],
   "source": [
    "class dog:\n",
    "    def_init_(self,name):\n",
    "       self.name=name\n",
    "\n",
    "    def talk(self):\n",
    "        print(\"woof !\")\n",
    "\n",
    "    def printname(self):\n",
    "        print(\"my  name is :{}\",format(self.name))\n",
    "\n",
    "\n",
    "    \n",
    "    \n",
    "    "
   ]
  },
  {
   "cell_type": "code",
   "execution_count": 17,
   "id": "f41dc80d-0610-41bb-bb1e-f13a2db34eb7",
   "metadata": {},
   "outputs": [
    {
     "ename": "TypeError",
     "evalue": "Faculty() takes no arguments",
     "output_type": "error",
     "traceback": [
      "\u001b[31m---------------------------------------------------------------------------\u001b[39m",
      "\u001b[31mTypeError\u001b[39m                                 Traceback (most recent call last)",
      "\u001b[36mCell\u001b[39m\u001b[36m \u001b[39m\u001b[32mIn[17]\u001b[39m\u001b[32m, line 11\u001b[39m\n\u001b[32m      9\u001b[39m         \u001b[38;5;28mprint\u001b[39m(\u001b[33m\"\u001b[39m\u001b[33mFaculty name:\u001b[39m\u001b[33m\"\u001b[39m,\u001b[38;5;28mself\u001b[39m.name)\n\u001b[32m     10\u001b[39m         \u001b[38;5;28mprint\u001b[39m(\u001b[33m\"\u001b[39m\u001b[33mFaculty salary:\u001b[39m\u001b[33m\"\u001b[39m,\u001b[38;5;28mself\u001b[39m.salary)\n\u001b[32m---> \u001b[39m\u001b[32m11\u001b[39m info=\u001b[43mFaculty\u001b[49m\u001b[43m(\u001b[49m\u001b[32;43m1\u001b[39;49m\u001b[43m,\u001b[49m\u001b[33;43m\"\u001b[39;49m\u001b[33;43mRAGUL\u001b[39;49m\u001b[33;43m\"\u001b[39;49m\u001b[43m,\u001b[49m\u001b[32;43m100000\u001b[39;49m\u001b[43m)\u001b[49m\n\u001b[32m     12\u001b[39m info.show()\n",
      "\u001b[31mTypeError\u001b[39m: Faculty() takes no arguments"
     ]
    }
   ],
   "source": [
    "class Faculty:\n",
    "    def __init_(self,id,name,salary):\n",
    "        self.id=id\n",
    "        self.name=name\n",
    "        self.salary=salary\n",
    "\n",
    "    def show(self):\n",
    "        print(\"Faculty id:\",self.id)\n",
    "        print(\"Faculty name:\",self.name)\n",
    "        print(\"Faculty salary:\",self.salary)\n",
    "info=Faculty(1,\"RAGUL\",100000)\n",
    "info.show()"
   ]
  },
  {
   "cell_type": "markdown",
   "id": "9c66e370-faad-4d96-9f20-01430723618c",
   "metadata": {},
   "source": [
    "INHERITANCE:\n",
    "1.it allows one class to inherit the properties and behaviours of another class(attributes,methods)\n",
    "2.promotes codes,reuse and  helps to organ"
   ]
  },
  {
   "cell_type": "code",
   "execution_count": 15,
   "id": "f0e73728-5336-4233-bc78-ec980a178c46",
   "metadata": {},
   "outputs": [
    {
     "ename": "SyntaxError",
     "evalue": "invalid syntax (2058306781.py, line 4)",
     "output_type": "error",
     "traceback": [
      "  \u001b[36mCell\u001b[39m\u001b[36m \u001b[39m\u001b[32mIn[15]\u001b[39m\u001b[32m, line 4\u001b[39m\n\u001b[31m    \u001b[39m\u001b[31mreturn self.name=name\u001b[39m\n                    ^\n\u001b[31mSyntaxError\u001b[39m\u001b[31m:\u001b[39m invalid syntax\n"
     ]
    }
   ],
   "source": [
    "#example of inheritance\n",
    "class Animal:\n",
    "    def __init___(self,name):\n",
    "        return self.name=name\n",
    "    def speak(self):\n",
    "        return f\"{self.name} makes sound\"\n",
    "    \n",
    "class Dog(Animal):\n",
    "     def speaks(self):\n",
    "     return f\"{self.name} barks\"\n",
    "animal=Animal(\"Generic  Animal\")\n",
    "print(animal.speaks())\n"
   ]
  },
  {
   "cell_type": "raw",
   "id": "a953953c-b0b5-4311-bfc0-eabede42dc7a",
   "metadata": {},
   "source": [
    "POLYMORPHISM"
   ]
  },
  {
   "cell_type": "code",
   "execution_count": 10,
   "id": "88fcb38a-d5e3-4e41-9bab-14f587e7eafe",
   "metadata": {},
   "outputs": [
    {
     "name": "stdout",
     "output_type": "stream",
     "text": [
      "210\n"
     ]
    }
   ],
   "source": [
    "#overloading moethod\n",
    "def add(a,b,c=0):    \n",
    "    print(a+b+c)\n",
    "add(10,200)\n",
    "def mul(a,b,c=0):\n",
    "    print(a*b*c)\n",
    "mul(2,3)\n",
    "mul(2,3,4)"
   ]
  },
  {
   "cell_type": "code",
   "execution_count": 14,
   "id": "b2319a50-0873-4a40-9e0a-a66ea7b9938d",
   "metadata": {},
   "outputs": [
    {
     "name": "stdout",
     "output_type": "stream",
     "text": [
      "Some Generic Sound\n",
      "Meow\n",
      "Barks\n"
     ]
    }
   ],
   "source": [
    "#overrriding method\n",
    "class Animal:\n",
    "    def sound(self):\n",
    "        return(\"Some Generic Sound\")\n",
    "class Dog:\n",
    "    def sound(self):\n",
    "        return \"Barks\"\n",
    "class Cat:\n",
    "    def sound(self):\n",
    "        return \"Meow\"\n",
    "\n",
    "#create objects        \n",
    "animal=Animal()\n",
    "cat=Cat()\n",
    "dog=Dog()\n",
    "\n",
    "#calling method\n",
    "print(animal.sound())\n",
    "print(cat.sound())\n",
    "print(dog.sound())\n",
    "    "
   ]
  },
  {
   "cell_type": "code",
   "execution_count": 21,
   "id": "4021b7ec-f637-4c01-a452-7412d1e4501a",
   "metadata": {},
   "outputs": [
    {
     "name": "stdout",
     "output_type": "stream",
     "text": [
      "3\n"
     ]
    }
   ],
   "source": [
    "class Mathoperations:\n",
    "    def add(self,a=0,b=0,c=0,d=0,):\n",
    "        return (a+b+c+d)\n",
    "math=Mathoperations\n",
    "print(math.add(1,2,1,))"
   ]
  },
  {
   "cell_type": "code",
   "execution_count": null,
   "id": "37bce08d-0090-4e29-b49a-d0e58efb7434",
   "metadata": {},
   "outputs": [],
   "source": [
    "#ENCAPSULATION\n",
    "class A:\n",
    "    "
   ]
  }
 ],
 "metadata": {
  "kernelspec": {
   "display_name": "Python 3 (ipykernel)",
   "language": "python",
   "name": "python3"
  },
  "language_info": {
   "codemirror_mode": {
    "name": "ipython",
    "version": 3
   },
   "file_extension": ".py",
   "mimetype": "text/x-python",
   "name": "python",
   "nbconvert_exporter": "python",
   "pygments_lexer": "ipython3",
   "version": "3.12.6"
  }
 },
 "nbformat": 4,
 "nbformat_minor": 5
}
