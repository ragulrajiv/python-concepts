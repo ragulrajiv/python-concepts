{
 "cells": [
  {
   "cell_type": "markdown",
   "id": "2a0fb4f2-f863-4d05-a18f-af69b607f816",
   "metadata": {},
   "source": [
    "1. why you choose python ?\n",
    "- In python we having libraries for example visualization used pandas,numpy and present growing AI and ML mostly used python language.\n",
    "- web applications like django used python."
   ]
  },
  {
   "cell_type": "markdown",
   "id": "4c22050b-8e9c-4225-b372-2c7d6993594d",
   "metadata": {},
   "source": [
    "### Looping Statements\n",
    "- In python ,loops are used to repeat a block of code multiple times.\n",
    "- there are two types\n",
    "1. For Loop\n",
    "2. While Loop\n"
   ]
  },
  {
   "cell_type": "markdown",
   "id": "d1aec481-0dbc-48b6-b631-1030fbae3c53",
   "metadata": {},
   "source": [
    "#### For Loop\n",
    "1. For loop when range is defined.\n",
    "2. Used when iterating over a sequence or when the number of iterations is known."
   ]
  },
  {
   "cell_type": "code",
   "execution_count": 6,
   "id": "de3e1b2c-758a-4538-8d01-1fe140766773",
   "metadata": {},
   "outputs": [
    {
     "name": "stdout",
     "output_type": "stream",
     "text": [
      "1 2 a 5 g 9 "
     ]
    }
   ],
   "source": [
    "numbers=[1,2,'a',5,'g',9]\n",
    "for i in numbers:\n",
    "    print(i,end=' ')"
   ]
  },
  {
   "cell_type": "code",
   "execution_count": 10,
   "id": "ffb857eb-5003-4c00-b9f2-a03d21339403",
   "metadata": {},
   "outputs": [
    {
     "name": "stdout",
     "output_type": "stream",
     "text": [
      "1 2 3 4 5 6 7 8 9 "
     ]
    }
   ],
   "source": [
    "for i in range(1,10):\n",
    "    print(i,end=' ')"
   ]
  },
  {
   "cell_type": "code",
   "execution_count": 34,
   "id": "9a3f4354-db3c-4009-a59c-c7a320f59460",
   "metadata": {},
   "outputs": [
    {
     "name": "stdout",
     "output_type": "stream",
     "text": [
      "1 4 7 10 "
     ]
    }
   ],
   "source": [
    "for i in range(1,11,3):\n",
    "    print(i,end=' ')\n"
   ]
  },
  {
   "cell_type": "code",
   "execution_count": 78,
   "id": "2f0aa227-6a30-4c93-8a5e-4b1bca7516d1",
   "metadata": {},
   "outputs": [
    {
     "name": "stdout",
     "output_type": "stream",
     "text": [
      "2 4 6 8 10 12 14 16 18 20 22 24 26 28 30 32 34 36 38 40 42 44 46 48 , Even Numbers\n"
     ]
    }
   ],
   "source": [
    "# print even numbers\n",
    "for i in range(1,50):\n",
    "    if i%2==0:\n",
    "        print(i,end=' ')\n",
    "print(\", Even Numbers\")        "
   ]
  },
  {
   "cell_type": "code",
   "execution_count": 74,
   "id": "8db3a7ed-312f-49d4-9886-ccf5703ce0df",
   "metadata": {},
   "outputs": [
    {
     "name": "stdout",
     "output_type": "stream",
     "text": [
      "Hello"
     ]
    }
   ],
   "source": [
    "word=\"Hello\"\n",
    "for letter in word:\n",
    "    print(letter,end='')"
   ]
  },
  {
   "cell_type": "code",
   "execution_count": 89,
   "id": "3cb094bc-f3fc-4d61-87ab-097411dc8085",
   "metadata": {},
   "outputs": [
    {
     "name": "stdout",
     "output_type": "stream",
     "text": [
      "*\n",
      "**\n",
      "***\n",
      "****\n",
      "*****\n",
      "******\n"
     ]
    }
   ],
   "source": [
    "for i in range(1,7,1):\n",
    "    print(\"*\"*i)"
   ]
  },
  {
   "cell_type": "code",
   "execution_count": 121,
   "id": "e31d6041-b9cb-4c96-aae8-5b837ae0fe3c",
   "metadata": {},
   "outputs": [
    {
     "name": "stdout",
     "output_type": "stream",
     "text": [
      "*******\n",
      "******\n",
      "*****\n",
      "****\n",
      "***\n",
      "**\n"
     ]
    }
   ],
   "source": [
    "for i in range(7,1,-1):\n",
    "    print(\"*\"*i)"
   ]
  },
  {
   "cell_type": "code",
   "execution_count": 5,
   "id": "dc3336ca-52c3-48aa-af6f-4928515c4632",
   "metadata": {},
   "outputs": [
    {
     "name": "stdout",
     "output_type": "stream",
     "text": [
      "    *    \n",
      "   ***   \n",
      "  *****  \n",
      " ******* \n",
      "*********\n",
      " ******* \n",
      "  *****  \n",
      "   ***   \n",
      "    *    \n"
     ]
    }
   ],
   "source": [
    "#upper diamond\n",
    "n=5 #number of rows for the upper half\n",
    "for i in range(1,n+1):   #2,3,4,5\n",
    "    print((\"*\"*(2*i-1)).center(2*n-1))\n",
    "#lower diamond\n",
    "for j in range(n-1,0,-1):   \n",
    "    print((\"*\"*(2*j-1)).center(2*n-1))"
   ]
  },
  {
   "cell_type": "code",
   "execution_count": 23,
   "id": "16a7b5ad-d2eb-491c-adbb-48128c64b41f",
   "metadata": {},
   "outputs": [],
   "source": [
    "text= '''The 123rd annual tech conference hosted in Brookefield Bengaluru on April 03 2025 saw a record 450 attendees.\n",
    "       This year's focus , \"AI_Future ,\" generated intense discussions and 7 new partnerships .'''"
   ]
  },
  {
   "cell_type": "code",
   "execution_count": 25,
   "id": "ada89bf3-b19b-4c98-87c1-5a86c9d3b139",
   "metadata": {},
   "outputs": [
    {
     "name": "stdout",
     "output_type": "stream",
     "text": [
      "The,annual,tech,conference,hosted,in,Brookefield,Bengaluru,on,April,saw,a,record,This,focus,generated,intense,discussions,and,new,partnerships,"
     ]
    }
   ],
   "source": [
    "for i in text.split():\n",
    "    if i.isalpha()==True:\n",
    "        print(i,end=',')\n",
    "        "
   ]
  },
  {
   "cell_type": "code",
   "execution_count": 21,
   "id": "db1402ca-f23c-4c08-b310-2336fd385e81",
   "metadata": {},
   "outputs": [
    {
     "name": "stdout",
     "output_type": "stream",
     "text": [
      "03,2025,450,7,"
     ]
    }
   ],
   "source": [
    "for i in text.split():\n",
    "    if i.isnumeric()==True:\n",
    "        print(i,end=',')"
   ]
  },
  {
   "cell_type": "markdown",
   "id": "ec5b3b1b-4af3-44ca-b13e-c24f7b1a7e79",
   "metadata": {},
   "source": [
    "#### While Loop\n",
    "- While loop repeats a block of code as long as specified condition true, range not defined."
   ]
  },
  {
   "cell_type": "code",
   "execution_count": 18,
   "id": "50b44139-8d86-4aab-890f-8604a2368702",
   "metadata": {},
   "outputs": [
    {
     "name": "stdout",
     "output_type": "stream",
     "text": [
      "10 13 16 19 22 25 28 31 34 37 40 43 46 49 "
     ]
    }
   ],
   "source": [
    "count=10\n",
    "while count <=50:\n",
    "    print(count,end=' ')\n",
    "    count+=3"
   ]
  },
  {
   "cell_type": "code",
   "execution_count": 1,
   "id": "c880054d-7167-40fc-b2c9-d17421f959ae",
   "metadata": {},
   "outputs": [
    {
     "name": "stdout",
     "output_type": "stream",
     "text": [
      "15 17 19 21 23 25 27 29 "
     ]
    }
   ],
   "source": [
    "count=15\n",
    "while count<=30:\n",
    "    print(count,end=' ')\n",
    "    count +=2"
   ]
  },
  {
   "cell_type": "code",
   "execution_count": 11,
   "id": "de41882e-2364-47ea-8395-34bab535de61",
   "metadata": {},
   "outputs": [
    {
     "name": "stdout",
     "output_type": "stream",
     "text": [
      "1 Odd number\n",
      "2 Even number\n",
      "3 Odd number\n",
      "4 Even number\n"
     ]
    }
   ],
   "source": [
    "a=1\n",
    "while a<5:\n",
    "    if (a %2==0):\n",
    "        print(a,\"Even number\")\n",
    "    else:\n",
    "        print(a,\"Odd number\")\n",
    "    a+=1    \n",
    "    "
   ]
  },
  {
   "cell_type": "code",
   "execution_count": 1,
   "id": "3461e413-e5ed-434f-8a10-fc9a0026ff98",
   "metadata": {},
   "outputs": [
    {
     "name": "stdout",
     "output_type": "stream",
     "text": [
      "    *\n",
      "   **\n",
      "  ***\n",
      " ****\n",
      "*****\n"
     ]
    }
   ],
   "source": [
    "x=1\n",
    "while x<6:\n",
    "    print((5-x)*\" \"+x*\"*\")\n",
    "    x+=1"
   ]
  },
  {
   "cell_type": "markdown",
   "id": "c8e05357-4f99-4a9d-a4e0-8360ebf167ec",
   "metadata": {},
   "source": [
    "### Looping Control Statements"
   ]
  },
  {
   "cell_type": "markdown",
   "id": "9fcd05b5-62d0-42c0-96d1-4c6d4e17aef9",
   "metadata": {},
   "source": [
    " #### types of Control statements\n",
    "1. break Statement → Terminates the loop immediately.\n",
    "2. continue → Skips the current iteration and moves to the next.\n",
    "3. pass → Does nothing (used as a placeholder)."
   ]
  },
  {
   "cell_type": "markdown",
   "id": "c3a670a4-9636-4646-8189-1c1e0bd79f9b",
   "metadata": {},
   "source": [
    "#### break statement"
   ]
  },
  {
   "cell_type": "code",
   "execution_count": 8,
   "id": "6f4c1cc9-6d46-4373-ac71-381813302ecd",
   "metadata": {},
   "outputs": [
    {
     "name": "stdout",
     "output_type": "stream",
     "text": [
      "10\n"
     ]
    }
   ],
   "source": [
    "for i in range(1,100):\n",
    "    if i==10:\n",
    "        print(i)\n",
    "        break"
   ]
  },
  {
   "cell_type": "markdown",
   "id": "a4ca7d20-389e-41e8-8082-f70f8f3fbf9a",
   "metadata": {},
   "source": [
    "#### continue statement"
   ]
  },
  {
   "cell_type": "code",
   "execution_count": 16,
   "id": "bba89085-c8c0-4412-a9bd-6d7806fe5140",
   "metadata": {},
   "outputs": [
    {
     "name": "stdout",
     "output_type": "stream",
     "text": [
      "0,1,2,3,4,5,6,7,8,9,11,12,13,14,15,16,17,18,19,"
     ]
    }
   ],
   "source": [
    "for i in range(0,20):\n",
    "    if i==10:\n",
    "        continue\n",
    "    print(i,end=\",\")    "
   ]
  },
  {
   "cell_type": "code",
   "execution_count": 19,
   "id": "c161c01b-6e32-4ac7-80c7-a2d44b179d6e",
   "metadata": {},
   "outputs": [
    {
     "name": "stdout",
     "output_type": "stream",
     "text": [
      "1 3 5 7 9 "
     ]
    }
   ],
   "source": [
    "for number in range(10):\n",
    "    if number % 2==0:\n",
    "        continue\n",
    "    print(number,end=' ')    "
   ]
  },
  {
   "cell_type": "markdown",
   "id": "dc002d19-3fa4-4197-a037-cff6e6e4a836",
   "metadata": {},
   "source": [
    "#### pass statement\n",
    "- you want to store data but no need to execute,delete and feature will needed that time used pass statement."
   ]
  },
  {
   "cell_type": "code",
   "execution_count": 8,
   "id": "3da53d00-94f7-4442-b086-fc5f770e5cac",
   "metadata": {},
   "outputs": [],
   "source": [
    "a=20\n",
    "b=300\n",
    "if b>a:\n",
    "    pass"
   ]
  },
  {
   "cell_type": "code",
   "execution_count": 27,
   "id": "576da894-a715-45e3-acbd-eaeb92a07e27",
   "metadata": {},
   "outputs": [
    {
     "name": "stdout",
     "output_type": "stream",
     "text": [
      "0\n",
      "1\n",
      "2\n",
      "3\n",
      "4\n",
      "loop finished without break\n"
     ]
    }
   ],
   "source": [
    "# else #an else block can added to a loop,which is executed when the loop completes normally,without encountering a break statement.\n",
    "for num in range(5):\n",
    "    print(num)\n",
    "else:\n",
    "    print(\"loop finished without break\")\n"
   ]
  }
 ],
 "metadata": {
  "kernelspec": {
   "display_name": "Python [conda env:base] *",
   "language": "python",
   "name": "conda-base-py"
  },
  "language_info": {
   "codemirror_mode": {
    "name": "ipython",
    "version": 3
   },
   "file_extension": ".py",
   "mimetype": "text/x-python",
   "name": "python",
   "nbconvert_exporter": "python",
   "pygments_lexer": "ipython3",
   "version": "3.12.7"
  }
 },
 "nbformat": 4,
 "nbformat_minor": 5
}
