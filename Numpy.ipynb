{
 "cells": [
  {
   "cell_type": "markdown",
   "id": "5be2e481-3b49-4166-be21-7ff50af012e4",
   "metadata": {},
   "source": [
    "### Numpy\n",
    "used to perform mathmatical and logical operations on arrays.  \n"
   ]
  },
  {
   "cell_type": "code",
   "execution_count": 3,
   "id": "79b66728-ecc7-4ed7-87c9-145a6df10aaa",
   "metadata": {},
   "outputs": [
    {
     "data": {
      "text/plain": [
       "array([2, 2, 0, 1])"
      ]
     },
     "execution_count": 3,
     "metadata": {},
     "output_type": "execute_result"
    }
   ],
   "source": [
    "import numpy as np\n",
    "np.random.randint(0,10,4) # random values gengerates like opt "
   ]
  },
  {
   "cell_type": "code",
   "execution_count": 3,
   "id": "222f29cb-357c-4467-956d-2e6cd96daa30",
   "metadata": {},
   "outputs": [
    {
     "data": {
      "text/plain": [
       "array([[1., 1., 1.],\n",
       "       [1., 1., 1.],\n",
       "       [1., 1., 1.],\n",
       "       [1., 1., 1.]])"
      ]
     },
     "execution_count": 3,
     "metadata": {},
     "output_type": "execute_result"
    }
   ],
   "source": [
    "import numpy as np\n",
    "np.ones((4,3))"
   ]
  },
  {
   "cell_type": "code",
   "execution_count": 5,
   "id": "d9693944-1075-430b-a6b7-174b2c558547",
   "metadata": {},
   "outputs": [
    {
     "data": {
      "text/plain": [
       "array([[0., 0., 0.],\n",
       "       [0., 0., 0.]])"
      ]
     },
     "execution_count": 5,
     "metadata": {},
     "output_type": "execute_result"
    }
   ],
   "source": [
    "np.zeros((2,3))"
   ]
  },
  {
   "cell_type": "code",
   "execution_count": 9,
   "id": "0f125bb2-3339-4de7-93ef-3fe3569fc905",
   "metadata": {},
   "outputs": [
    {
     "data": {
      "text/plain": [
       "array([[2, 2, 2, 2],\n",
       "       [2, 2, 2, 2],\n",
       "       [2, 2, 2, 2],\n",
       "       [2, 2, 2, 2]])"
      ]
     },
     "execution_count": 9,
     "metadata": {},
     "output_type": "execute_result"
    }
   ],
   "source": [
    "np.full((4,4),2)# we can give any value in last"
   ]
  },
  {
   "cell_type": "code",
   "execution_count": 15,
   "id": "ff7c7033-06c2-4f22-931c-93b361828b9e",
   "metadata": {},
   "outputs": [
    {
     "name": "stdout",
     "output_type": "stream",
     "text": [
      "[2 3 5]\n"
     ]
    }
   ],
   "source": [
    "#1D array\n",
    "a=np.array([2,3,5])\n",
    "print(a)"
   ]
  },
  {
   "cell_type": "code",
   "execution_count": 16,
   "id": "1811b9bb-dac2-4d19-a3c2-155c9c9bf50b",
   "metadata": {},
   "outputs": [
    {
     "name": "stdout",
     "output_type": "stream",
     "text": [
      "[23  5 67 12 45]\n"
     ]
    },
    {
     "data": {
      "text/plain": [
       "1"
      ]
     },
     "execution_count": 16,
     "metadata": {},
     "output_type": "execute_result"
    }
   ],
   "source": [
    "a=np.array([23,5,67,12,45])\n",
    "print(a)\n",
    "a.ndim"
   ]
  },
  {
   "cell_type": "code",
   "execution_count": 29,
   "id": "e0726024-6cd1-41c7-940b-57f38ad0600f",
   "metadata": {},
   "outputs": [
    {
     "name": "stdout",
     "output_type": "stream",
     "text": [
      "[[3 5 4]\n",
      " [2 2 2]\n",
      " [2 1 3]]\n",
      "2\n",
      "(3, 3)\n"
     ]
    }
   ],
   "source": [
    "#2D array\n",
    "a=np.array([[3,5,4],[2,2,2],[2,1,3]])\n",
    "print(a)\n",
    "print(a.ndim)\n",
    "print(a.shape)"
   ]
  },
  {
   "cell_type": "code",
   "execution_count": 27,
   "id": "1fa2f33f-918c-4d7b-a062-422221ba45f1",
   "metadata": {},
   "outputs": [
    {
     "name": "stdout",
     "output_type": "stream",
     "text": [
      "[[1 4 6]\n",
      " [5 9 3]]\n",
      "2\n",
      "(2, 3)\n"
     ]
    }
   ],
   "source": [
    "b=np.array([[1,4,6],[5,9,3]])\n",
    "print(b)\n",
    "print(b.ndim)\n",
    "print(b.shape)"
   ]
  },
  {
   "cell_type": "code",
   "execution_count": 71,
   "id": "a2e17ae4-f5d4-463e-bc54-b274c63a4eec",
   "metadata": {},
   "outputs": [
    {
     "name": "stdout",
     "output_type": "stream",
     "text": [
      "[[[1 2 3]\n",
      "  [3 2 1]\n",
      "  [3 6 4]]\n",
      "\n",
      " [[3 4 5]\n",
      "  [9 6 7]\n",
      "  [1 2 3]]]\n",
      "3\n",
      "(2, 3, 3)\n",
      "18\n"
     ]
    }
   ],
   "source": [
    "c=np.array([[[1,2,3],[3,2,1],[3,6,4]],[[3,4,5],[9,6,7],[1,2,3]]])\n",
    "print(c)\n",
    "print(c.ndim)\n",
    "print(c.shape)\n",
    "print(c.size) # number of elements present in a array"
   ]
  },
  {
   "cell_type": "code",
   "execution_count": 27,
   "id": "0668d6b6-fa29-4b40-8157-78ea24ace5f2",
   "metadata": {},
   "outputs": [
    {
     "data": {
      "text/plain": [
       "array([ 0,  5, 10, 15, 20, 25, 30, 35, 40, 45, 50])"
      ]
     },
     "execution_count": 27,
     "metadata": {},
     "output_type": "execute_result"
    }
   ],
   "source": [
    "np.arange(0,51,5) # 5=intervel"
   ]
  },
  {
   "cell_type": "code",
   "execution_count": 33,
   "id": "36d16699-100e-4fb8-9235-f7af5cd127b8",
   "metadata": {},
   "outputs": [
    {
     "data": {
      "text/plain": [
       "array([10.        , 13.33333333, 16.66666667, 20.        ])"
      ]
     },
     "execution_count": 33,
     "metadata": {},
     "output_type": "execute_result"
    }
   ],
   "source": [
    "np.linspace(10,20,4) # initialize z number between x and y"
   ]
  },
  {
   "cell_type": "code",
   "execution_count": 37,
   "id": "a17f4987-ba43-402f-bb6f-b585b32f9d8a",
   "metadata": {},
   "outputs": [
    {
     "data": {
      "text/plain": [
       "array([ 0. ,  2.5,  5. ,  7.5, 10. ])"
      ]
     },
     "execution_count": 37,
     "metadata": {},
     "output_type": "execute_result"
    }
   ],
   "source": [
    "np.linspace(0,10,5)"
   ]
  },
  {
   "cell_type": "code",
   "execution_count": 119,
   "id": "83472721-6aa8-4cb6-b1b9-0b7e20e9c0bc",
   "metadata": {},
   "outputs": [
    {
     "data": {
      "text/plain": [
       "array([[1., 0., 0., 0.],\n",
       "       [0., 1., 0., 0.],\n",
       "       [0., 0., 1., 0.],\n",
       "       [0., 0., 0., 1.],\n",
       "       [0., 0., 0., 0.]])"
      ]
     },
     "execution_count": 119,
     "metadata": {},
     "output_type": "execute_result"
    }
   ],
   "source": [
    "np.eye(5,4)"
   ]
  },
  {
   "cell_type": "code",
   "execution_count": 95,
   "id": "404f5d30-b3cb-4ba1-a57e-a04f53c66e55",
   "metadata": {},
   "outputs": [
    {
     "name": "stdout",
     "output_type": "stream",
     "text": [
      "original Array [[2 4 5 6]\n",
      " [1 6 3 7]\n",
      " [9 7 4 1]]\n",
      "changed array [[2 4]\n",
      " [5 6]\n",
      " [1 6]\n",
      " [3 7]\n",
      " [9 7]\n",
      " [4 1]]\n",
      "changed array [[2 4 5 6 1 6 3 7 9 7 4 1]]\n",
      "changed array [[2 4 5]\n",
      " [6 1 6]\n",
      " [3 7 9]\n",
      " [7 4 1]]\n",
      "2\n",
      "[[[2 4]\n",
      "  [5 6]\n",
      "  [1 6]]\n",
      "\n",
      " [[3 7]\n",
      "  [9 7]\n",
      "  [4 1]]]\n",
      "3\n",
      "(2, 3, 2)\n"
     ]
    }
   ],
   "source": [
    "a=np.array([[2,4,5,6],[1,6,3,7],[9,7,4,1]])\n",
    "print(\"original Array\",a)\n",
    "a.shape=(6,2)\n",
    "print(\"changed array\",a)\n",
    "a.shape=(1,12)\n",
    "print(\"changed array\",a)\n",
    "a.shape=(4,3)\n",
    "print(\"changed array\",a)\n",
    "print(a.ndim)\n",
    "a.shape=(2,3,2)\n",
    "print(a)\n",
    "print(a.ndim)\n",
    "print(a.shape)"
   ]
  },
  {
   "cell_type": "code",
   "execution_count": 69,
   "id": "578869e0-f49b-4445-b885-e1869aad76d9",
   "metadata": {},
   "outputs": [
    {
     "name": "stdout",
     "output_type": "stream",
     "text": [
      "12\n"
     ]
    }
   ],
   "source": [
    "b=np.array([[1,2,3],[4,5,6],[5,8,8],[5,6,4]])\n",
    "print(b.size) # size means 4 rows * 3 columns=12, \n"
   ]
  },
  {
   "cell_type": "code",
   "execution_count": 30,
   "id": "4c1bb7aa-986c-481d-96a2-01e808f1796a",
   "metadata": {},
   "outputs": [
    {
     "data": {
      "text/plain": [
       "array([[0., 0., 0., 0., 0.],\n",
       "       [0., 0., 0., 0., 0.],\n",
       "       [0., 0., 0., 0., 0.]])"
      ]
     },
     "execution_count": 30,
     "metadata": {},
     "output_type": "execute_result"
    }
   ],
   "source": [
    "np.zeros((3,5))"
   ]
  },
  {
   "cell_type": "code",
   "execution_count": 32,
   "id": "1038a5e4-0ca2-4547-bb12-702222a53f6d",
   "metadata": {},
   "outputs": [
    {
     "data": {
      "text/plain": [
       "array([[1., 1., 1., 1., 1.],\n",
       "       [1., 1., 1., 1., 1.],\n",
       "       [1., 1., 1., 1., 1.]])"
      ]
     },
     "execution_count": 32,
     "metadata": {},
     "output_type": "execute_result"
    }
   ],
   "source": [
    "np.ones((3,5))"
   ]
  },
  {
   "cell_type": "code",
   "execution_count": 38,
   "id": "f28a2d3f-f6a0-43b8-bf6f-2a2591b77175",
   "metadata": {},
   "outputs": [
    {
     "data": {
      "text/plain": [
       "array([[-6, -6, -6, -6, -6],\n",
       "       [-6, -6, -6, -6, -6],\n",
       "       [-6, -6, -6, -6, -6],\n",
       "       [-6, -6, -6, -6, -6]])"
      ]
     },
     "execution_count": 38,
     "metadata": {},
     "output_type": "execute_result"
    }
   ],
   "source": [
    "np.full((4,5),-6)"
   ]
  },
  {
   "cell_type": "code",
   "execution_count": 7,
   "id": "e2c7dc5d-e0da-44e2-b11c-2d7fcf5b04a3",
   "metadata": {},
   "outputs": [
    {
     "data": {
      "text/plain": [
       "array([ 0,  2,  4,  6,  8, 10, 12, 14, 16, 18])"
      ]
     },
     "execution_count": 7,
     "metadata": {},
     "output_type": "execute_result"
    }
   ],
   "source": [
    "np.arange(0,20,2)"
   ]
  },
  {
   "cell_type": "code",
   "execution_count": 9,
   "id": "2986d528-0642-498f-bf89-1c30d7035af5",
   "metadata": {},
   "outputs": [
    {
     "data": {
      "text/plain": [
       "array([20, 25, 30, 35, 40, 45])"
      ]
     },
     "execution_count": 9,
     "metadata": {},
     "output_type": "execute_result"
    }
   ],
   "source": [
    "np.arange(20,50,5)"
   ]
  },
  {
   "cell_type": "code",
   "execution_count": 23,
   "id": "04433fcb-7a10-4e0a-a9f3-ae6e4c4c7d85",
   "metadata": {},
   "outputs": [
    {
     "data": {
      "text/plain": [
       "array([ 2.        ,  4.55555556,  7.11111111,  9.66666667, 12.22222222,\n",
       "       14.77777778, 17.33333333, 19.88888889, 22.44444444, 25.        ])"
      ]
     },
     "execution_count": 23,
     "metadata": {},
     "output_type": "execute_result"
    }
   ],
   "source": [
    "np.linspace(2,25,10)"
   ]
  },
  {
   "cell_type": "code",
   "execution_count": 133,
   "id": "937a3496-4552-4961-b278-6305f7f97f82",
   "metadata": {},
   "outputs": [
    {
     "name": "stdout",
     "output_type": "stream",
     "text": [
      "[ 0  1  2  3  4  5  6  7  8  9 10 11 12 13 14 15 16 17 18 19]\n",
      "1\n",
      "(20,)\n"
     ]
    },
    {
     "data": {
      "text/plain": [
       "19"
      ]
     },
     "execution_count": 133,
     "metadata": {},
     "output_type": "execute_result"
    }
   ],
   "source": [
    "z=np.arange(20)\n",
    "print(z)\n",
    "print(z.ndim)\n",
    "print(z.shape)\n",
    "np.sum(z)\n",
    "np.max(z)"
   ]
  },
  {
   "cell_type": "code",
   "execution_count": 153,
   "id": "4882c094-da02-4cbc-b873-bbb3b3ec2283",
   "metadata": {},
   "outputs": [
    {
     "name": "stdout",
     "output_type": "stream",
     "text": [
      "[[[ 0  1]\n",
      "  [ 2  3]\n",
      "  [ 4  5]\n",
      "  [ 6  7]\n",
      "  [ 8  9]]\n",
      "\n",
      " [[10 11]\n",
      "  [12 13]\n",
      "  [14 15]\n",
      "  [16 17]\n",
      "  [18 19]]]\n",
      "3\n",
      "(2, 5, 2)\n"
     ]
    },
    {
     "data": {
      "text/plain": [
       "19"
      ]
     },
     "execution_count": 153,
     "metadata": {},
     "output_type": "execute_result"
    }
   ],
   "source": [
    "# converting 1d to 3d\n",
    "z.shape=(2,5,2)\n",
    "print(z)\n",
    "print(z.ndim)\n",
    "print(z.shape)\n",
    "np.max(z)"
   ]
  },
  {
   "cell_type": "code",
   "execution_count": 83,
   "id": "89eaf369-d314-41b7-8497-85d97773d12d",
   "metadata": {},
   "outputs": [
    {
     "name": "stdout",
     "output_type": "stream",
     "text": [
      "[[ 0  1  2  3]\n",
      " [ 4  5  6  7]\n",
      " [ 8  9 10 11]\n",
      " [12 13 14 15]\n",
      " [16 17 18 19]]\n",
      "2\n",
      "(5, 4)\n"
     ]
    }
   ],
   "source": [
    "# conerting 1d to 2d\n",
    "z.shape=(5,4)\n",
    "print(z)\n",
    "print(z.ndim)\n",
    "print(z.shape)"
   ]
  },
  {
   "cell_type": "code",
   "execution_count": 125,
   "id": "217b1cf5-b3c0-4854-bf8a-b0bf3d6d64fa",
   "metadata": {},
   "outputs": [
    {
     "name": "stdout",
     "output_type": "stream",
     "text": [
      "[[[[1 3 2]\n",
      "   [2 3 4]]\n",
      "\n",
      "  [[3 4 5]\n",
      "   [2 5 3]]]]\n",
      "4\n",
      "(1, 2, 2, 3)\n"
     ]
    }
   ],
   "source": [
    "y=np.array([[[[1,3,2],[2,3,4]],[[3,4,5],[2,5,3]]]])\n",
    "print(y)\n",
    "print(y.ndim)\n",
    "print(y.shape)"
   ]
  },
  {
   "cell_type": "code",
   "execution_count": 85,
   "id": "bca3ead7-4a5e-4518-a164-a90510291a50",
   "metadata": {},
   "outputs": [
    {
     "name": "stdout",
     "output_type": "stream",
     "text": [
      "[[18 18 12 17  2]\n",
      " [16 13 10  3 13]\n",
      " [ 4 14 13  3 14]\n",
      " [11 16 15 14  8]\n",
      " [18 15 13 10  0]\n",
      " [ 4  3  8 12  5]]\n"
     ]
    }
   ],
   "source": [
    "import numpy as np\n",
    "x=np.random.randint(0,20,(6,5))\n",
    "print(x)"
   ]
  },
  {
   "cell_type": "code",
   "execution_count": 87,
   "id": "207a3f56-9817-4a33-a874-304b46c5f0d8",
   "metadata": {},
   "outputs": [
    {
     "name": "stdout",
     "output_type": "stream",
     "text": [
      "[[18 18 12 17  2 16 13 10  3 13  4 14 13  3 14]\n",
      " [11 16 15 14  8 18 15 13 10  0  4  3  8 12  5]]\n"
     ]
    }
   ],
   "source": [
    "x.shape=(2,15)\n",
    "print(x)"
   ]
  },
  {
   "cell_type": "code",
   "execution_count": 7,
   "id": "f99a5b34-c7e3-4315-abd0-cabc923b02d9",
   "metadata": {},
   "outputs": [],
   "source": [
    "y=x.ravel()"
   ]
  },
  {
   "cell_type": "code",
   "execution_count": 9,
   "id": "5e5287d4-bf42-46ed-83b7-cc676ffc2e46",
   "metadata": {},
   "outputs": [
    {
     "data": {
      "text/plain": [
       "array([[ 1, 13, 13],\n",
       "       [ 9,  9, 14],\n",
       "       [14, 19,  6],\n",
       "       [13, 14, 15],\n",
       "       [ 0, 11,  2],\n",
       "       [12, 19, 19],\n",
       "       [14, 19,  4],\n",
       "       [ 1, 12, 10],\n",
       "       [ 2,  7,  3],\n",
       "       [18,  3, 14]])"
      ]
     },
     "execution_count": 9,
     "metadata": {},
     "output_type": "execute_result"
    }
   ],
   "source": [
    "y.reshape(10,3)"
   ]
  },
  {
   "cell_type": "code",
   "execution_count": 25,
   "id": "a4893dbf-1333-4487-94bc-885fb2155c24",
   "metadata": {},
   "outputs": [
    {
     "name": "stdout",
     "output_type": "stream",
     "text": [
      "[ 1 13 13  9  9 14 14 19  6 13 14 15  0 11  2 12 19 19 14 19  4  1 12 10\n",
      "  2  7  3 18  3 14]\n"
     ]
    }
   ],
   "source": [
    "print(y)"
   ]
  },
  {
   "cell_type": "code",
   "execution_count": 91,
   "id": "0da21c8a-62ee-47a3-9531-f402feb3ae18",
   "metadata": {},
   "outputs": [],
   "source": [
    "x1=np.array([[2,3],[4,3]])"
   ]
  },
  {
   "cell_type": "code",
   "execution_count": 93,
   "id": "20a5439a-397e-4ded-afeb-b5be3135d4fd",
   "metadata": {},
   "outputs": [],
   "source": [
    "x2=np.array([[4,5],[6,7]])"
   ]
  },
  {
   "cell_type": "code",
   "execution_count": 35,
   "id": "a01c88aa-2e31-466a-8da2-1beaaa030ce3",
   "metadata": {},
   "outputs": [
    {
     "data": {
      "text/plain": [
       "array([[2, 3],\n",
       "       [4, 3],\n",
       "       [4, 5],\n",
       "       [6, 7]])"
      ]
     },
     "execution_count": 35,
     "metadata": {},
     "output_type": "execute_result"
    }
   ],
   "source": [
    "np.vstack([x1,x2])"
   ]
  },
  {
   "cell_type": "code",
   "execution_count": 37,
   "id": "440a156a-de8f-4845-b0ad-6ee89da5dd71",
   "metadata": {},
   "outputs": [
    {
     "data": {
      "text/plain": [
       "array([[2, 3, 4, 5],\n",
       "       [4, 3, 6, 7]])"
      ]
     },
     "execution_count": 37,
     "metadata": {},
     "output_type": "execute_result"
    }
   ],
   "source": [
    "np.hstack([x1,x2])"
   ]
  },
  {
   "cell_type": "code",
   "execution_count": 95,
   "id": "83a2d1f7-33a5-4254-a3e7-2434d8729eef",
   "metadata": {},
   "outputs": [
    {
     "data": {
      "text/plain": [
       "array([[2, 3],\n",
       "       [4, 3],\n",
       "       [4, 5],\n",
       "       [6, 7]])"
      ]
     },
     "execution_count": 95,
     "metadata": {},
     "output_type": "execute_result"
    }
   ],
   "source": [
    "np.concatenate([x1,x2],axis=0)"
   ]
  },
  {
   "cell_type": "code",
   "execution_count": 97,
   "id": "d6244e34-657e-4ede-9969-2d8d342b0923",
   "metadata": {},
   "outputs": [
    {
     "data": {
      "text/plain": [
       "array([[2, 3, 4, 5],\n",
       "       [4, 3, 6, 7]])"
      ]
     },
     "execution_count": 97,
     "metadata": {},
     "output_type": "execute_result"
    }
   ],
   "source": [
    "np.concatenate([x1,x2],axis=1)"
   ]
  },
  {
   "cell_type": "code",
   "execution_count": 41,
   "id": "55955eb0-892e-490f-bb03-ccb09da953bc",
   "metadata": {},
   "outputs": [
    {
     "data": {
      "text/plain": [
       "23"
      ]
     },
     "execution_count": 41,
     "metadata": {},
     "output_type": "execute_result"
    }
   ],
   "source": [
    "x=([[2,3,4],[2,5,7]])\n",
    "np.sum(x)"
   ]
  },
  {
   "cell_type": "code",
   "execution_count": 39,
   "id": "04096f7e-2a0d-4b00-82db-6f34c72becb4",
   "metadata": {},
   "outputs": [
    {
     "name": "stdout",
     "output_type": "stream",
     "text": [
      "addition [[ 8 10 12]\n",
      " [14 16 18]]\n"
     ]
    }
   ],
   "source": [
    "array1=np.array([[1,2,3],[4,5,6]])\n",
    "array2=np.array([[7,8,9],[10,11,12]])\n",
    "sum_array=array1+array2\n",
    "print(\"addition\",sum_array)"
   ]
  },
  {
   "cell_type": "code",
   "execution_count": 53,
   "id": "427f3723-e3e6-4466-84e7-3ea8e59c02a3",
   "metadata": {},
   "outputs": [
    {
     "name": "stdout",
     "output_type": "stream",
     "text": [
      "4\n"
     ]
    }
   ],
   "source": [
    "sub=np.subtract(20,16) # it will take two arguments\n",
    "print(sub)"
   ]
  },
  {
   "cell_type": "markdown",
   "id": "b004757c-1933-45b8-9ccd-58957f1547c8",
   "metadata": {},
   "source": [
    "### broad casting"
   ]
  },
  {
   "cell_type": "code",
   "execution_count": 55,
   "id": "d77b752f-c632-406b-b807-115cddf8f775",
   "metadata": {},
   "outputs": [
    {
     "name": "stdout",
     "output_type": "stream",
     "text": [
      "[[7 7]\n",
      " [6 9]]\n"
     ]
    }
   ],
   "source": [
    "a=np.array([[2,3],[1,5]]) # using defferent shapes(broadcasting)\n",
    "b=np.array([[5,4]])\n",
    "add=a+b\n",
    "print(add)"
   ]
  },
  {
   "cell_type": "markdown",
   "id": "74e18368-6150-44cc-944d-3215637e502b",
   "metadata": {},
   "source": [
    "### Numpy Mathematical Functions"
   ]
  },
  {
   "cell_type": "code",
   "execution_count": 1,
   "id": "dacf797f-7872-4945-95e3-c0c757ff5dae",
   "metadata": {},
   "outputs": [
    {
     "name": "stdout",
     "output_type": "stream",
     "text": [
      "[0 1 2 3 4 5 6 7 8 9]\n"
     ]
    }
   ],
   "source": [
    "# Arithmetic functions\n",
    "import numpy as np\n",
    "a=np.arange(10)\n",
    "print(a)"
   ]
  },
  {
   "cell_type": "code",
   "execution_count": 27,
   "id": "e9a39949-dcf6-4e23-aa10-26e6983132c9",
   "metadata": {},
   "outputs": [
    {
     "name": "stdout",
     "output_type": "stream",
     "text": [
      "[ 2  3  4  5  6  7  8  9 10 11]\n",
      "[-1  0  1  2  3  4  5  6  7  8]\n",
      "[ 0  2  4  6  8 10 12 14 16 18]\n",
      "[0.  0.5 1.  1.5 2.  2.5 3.  3.5 4.  4.5]\n",
      "[ 0  1  4  9 16 25 36 49 64 81]\n"
     ]
    }
   ],
   "source": [
    "print(np.add(a,2))\n",
    "print(np.subtract(a,1))\n",
    "print(np.multiply(a,2))\n",
    "print(np.divide(a,2))\n",
    "print(np.power(a,2))"
   ]
  },
  {
   "cell_type": "code",
   "execution_count": 55,
   "id": "f42193e9-1d76-4092-bf1f-6bd26d50356a",
   "metadata": {},
   "outputs": [
    {
     "name": "stdout",
     "output_type": "stream",
     "text": [
      "[[10 10 10]\n",
      " [10 10 10]]\n"
     ]
    }
   ],
   "source": [
    "x=np.array([[9,8,7],[6,5,4]])\n",
    "y=np.array([[1,2,3],[4,5,6]])\n",
    "z=x+y\n",
    "print(z)"
   ]
  },
  {
   "cell_type": "code",
   "execution_count": 75,
   "id": "880b739a-7edc-44f9-9987-2a5d5b4d6b6c",
   "metadata": {},
   "outputs": [
    {
     "name": "stdout",
     "output_type": "stream",
     "text": [
      "1 [[10 10 10]\n",
      " [10 10 10]]\n",
      "2 [[ 8  6  4]\n",
      " [ 2  0 -2]]\n",
      "3 [[ 9 16 21]\n",
      " [24 25 24]]\n",
      "4 [[9.         4.         2.33333333]\n",
      " [1.5        1.         0.66666667]]\n",
      "5 [[   9   64  343]\n",
      " [1296 3125 4096]]\n"
     ]
    }
   ],
   "source": [
    "print('1',np.add(x,y))\n",
    "print('2',np.subtract(x,y))\n",
    "print('3',np.multiply(x,y))\n",
    "print('4',np.divide(x,y))\n",
    "print('5',np.power(x,y))"
   ]
  },
  {
   "cell_type": "code",
   "execution_count": 79,
   "id": "6dee220d-5b35-4f72-bae2-80a90f0cde40",
   "metadata": {},
   "outputs": [
    {
     "name": "stdout",
     "output_type": "stream",
     "text": [
      "[2. 2. 4. 7. 4.]\n",
      "[1. 2. 4. 6. 4.]\n",
      "[2. 3. 5. 7. 4.]\n",
      "[1. 2. 4. 6. 4.]\n"
     ]
    }
   ],
   "source": [
    "#Rounding function\n",
    "x=np.array([1.8,2.3,4.5,6.9,4])\n",
    "print(np.round(x))\n",
    "print(np.floor(x))\n",
    "print(np.ceil(x))\n",
    "print(np.trunc(x))"
   ]
  },
  {
   "cell_type": "code",
   "execution_count": 81,
   "id": "2271410b-6588-4925-ab8b-40c01defca4c",
   "metadata": {},
   "outputs": [
    {
     "name": "stdout",
     "output_type": "stream",
     "text": [
      "19.5\n",
      "6.9\n",
      "1.8\n"
     ]
    }
   ],
   "source": [
    "# aggregate functions\n",
    "print(np.sum(x))\n",
    "print(np.max(x))\n",
    "print(np.min(x))"
   ]
  },
  {
   "cell_type": "code",
   "execution_count": 19,
   "id": "f469417c-a6d9-4139-a85a-06061a3e766c",
   "metadata": {},
   "outputs": [
    {
     "name": "stdout",
     "output_type": "stream",
     "text": [
      "sum 16\n",
      "count 7\n",
      "mean 2.2857142857142856\n",
      "median 2.0\n",
      "correlation coefficient 1.0\n",
      "standard deviation 1.0301575072754257\n"
     ]
    }
   ],
   "source": [
    "a=np.array([1,2,4,2,1,3,3])\n",
    "print(\"sum\",np.sum(a))\n",
    "print(\"count\",np.size(a))\n",
    "print(\"mean\",np.mean(a))\n",
    "print(\"median\",np.median(a))\n",
    "print(\"correlation coefficient\",np.corrcoef(a))\n",
    "print(\"standard deviation\",np.std(a))"
   ]
  },
  {
   "cell_type": "code",
   "execution_count": 9,
   "id": "f23a3ef0-5ba6-4ee5-8851-0d016bc7ac70",
   "metadata": {},
   "outputs": [
    {
     "name": "stdout",
     "output_type": "stream",
     "text": [
      "[12 40 27]\n"
     ]
    }
   ],
   "source": [
    "import numpy as np\n",
    "g=np.array([2,5,3])\n",
    "h=np.array([6,8,9])\n",
    "j=h*g\n",
    "print(j)"
   ]
  },
  {
   "cell_type": "code",
   "execution_count": 115,
   "id": "a4a70efa-5c52-4b50-a647-181f42472f7c",
   "metadata": {},
   "outputs": [
    {
     "name": "stdout",
     "output_type": "stream",
     "text": [
      "33\n",
      "13\n"
     ]
    }
   ],
   "source": [
    "print(np.sum(j))\n",
    "print(np.max(j))"
   ]
  },
  {
   "cell_type": "code",
   "execution_count": 5,
   "id": "8dcae663-cf3b-4ff0-84a9-27b02bcc268f",
   "metadata": {},
   "outputs": [
    {
     "name": "stdout",
     "output_type": "stream",
     "text": [
      "[ 2 24]\n"
     ]
    }
   ],
   "source": [
    "s=np.array([2,3])\n",
    "d=np.array([1,8])\n",
    "result=s*d\n",
    "print(result)"
   ]
  },
  {
   "cell_type": "markdown",
   "id": "7b92407b-ef0f-4fbf-94a5-21932788b824",
   "metadata": {},
   "source": [
    "#### Exponential"
   ]
  },
  {
   "cell_type": "code",
   "execution_count": 10,
   "id": "586917ed-a6fe-4ecc-9929-ad5cc1c66960",
   "metadata": {},
   "outputs": [
    {
     "name": "stdout",
     "output_type": "stream",
     "text": [
      "[  2.71828183   7.3890561   20.08553692  54.59815003 148.4131591 ]\n"
     ]
    }
   ],
   "source": [
    "a=np.array([1,2,3,4,5])\n",
    "exp_a=np.exp(a)\n",
    "print(exp_a)"
   ]
  },
  {
   "cell_type": "code",
   "execution_count": 18,
   "id": "6d5efe85-47fb-457d-92f3-ab68b14ae3d5",
   "metadata": {},
   "outputs": [
    {
     "name": "stdout",
     "output_type": "stream",
     "text": [
      "[ 1  4  9 16 25]\n",
      "[1. 2. 3. 4. 5.]\n"
     ]
    }
   ],
   "source": [
    "a=np.array([1,4,9,16,25])\n",
    "print(a)\n",
    "squareroot=np.sqrt(a)\n",
    "print(squareroot)"
   ]
  },
  {
   "cell_type": "code",
   "execution_count": 20,
   "id": "e452dc99-084f-4072-b978-33e5e770560e",
   "metadata": {},
   "outputs": [
    {
     "data": {
      "text/plain": [
       "array([ 0.84147098, -0.7568025 ,  0.41211849, -0.28790332, -0.13235175])"
      ]
     },
     "execution_count": 20,
     "metadata": {},
     "output_type": "execute_result"
    }
   ],
   "source": [
    "np.sin(a)"
   ]
  },
  {
   "cell_type": "code",
   "execution_count": 22,
   "id": "e50a24c5-3be6-429f-8771-d75c703a183e",
   "metadata": {},
   "outputs": [
    {
     "data": {
      "text/plain": [
       "array([ 0.54030231, -0.65364362, -0.91113026, -0.95765948,  0.99120281])"
      ]
     },
     "execution_count": 22,
     "metadata": {},
     "output_type": "execute_result"
    }
   ],
   "source": [
    "np.cos(a)"
   ]
  },
  {
   "cell_type": "code",
   "execution_count": 24,
   "id": "50120027-d335-4b91-b4dd-40df6689d3aa",
   "metadata": {},
   "outputs": [
    {
     "data": {
      "text/plain": [
       "array([0.        , 1.38629436, 2.19722458, 2.77258872, 3.21887582])"
      ]
     },
     "execution_count": 24,
     "metadata": {},
     "output_type": "execute_result"
    }
   ],
   "source": [
    "np.log(a)"
   ]
  },
  {
   "cell_type": "markdown",
   "id": "75082bbc-e151-4af2-a1f8-e22d4307bd90",
   "metadata": {},
   "source": [
    "### numpy matrix multiplication"
   ]
  },
  {
   "cell_type": "code",
   "execution_count": 1,
   "id": "98c1c1f0-26d0-419c-b34f-9c4cd46c1c73",
   "metadata": {},
   "outputs": [
    {
     "name": "stdout",
     "output_type": "stream",
     "text": [
      "[[0 5 1]\n",
      " [2 5 8]]\n",
      "[[0 1]\n",
      " [5 1]\n",
      " [2 2]]\n"
     ]
    }
   ],
   "source": [
    "import numpy as np\n",
    "x1=np.random.randint(0,10,(2,3))\n",
    "x2=np.random.randint(0,10,(3,2))\n",
    "print(x1)\n",
    "print(x2)"
   ]
  },
  {
   "cell_type": "code",
   "execution_count": 3,
   "id": "ce4491fd-b6c7-4fc5-bc12-dfef8f0aa281",
   "metadata": {},
   "outputs": [
    {
     "name": "stdout",
     "output_type": "stream",
     "text": [
      "[[27  7]\n",
      " [41 23]]\n"
     ]
    }
   ],
   "source": [
    "print(np.dot(x1,x2))"
   ]
  },
  {
   "cell_type": "markdown",
   "id": "dc2b1e5c-bdff-45b9-9706-a5eced622fa0",
   "metadata": {},
   "source": [
    "### indexing and slicing in python"
   ]
  },
  {
   "cell_type": "code",
   "execution_count": 14,
   "id": "d410ec75-d54e-4884-b309-6e2e0790a890",
   "metadata": {},
   "outputs": [
    {
     "data": {
      "text/plain": [
       "['y', '', 't', 'h', 'o']"
      ]
     },
     "execution_count": 14,
     "metadata": {},
     "output_type": "execute_result"
    }
   ],
   "source": [
    "a=['p','y','','t','h','o','n']\n",
    "a[1:6]"
   ]
  },
  {
   "cell_type": "code",
   "execution_count": 42,
   "id": "5ee78c18-b248-4465-bd75-e48b91a73509",
   "metadata": {},
   "outputs": [
    {
     "name": "stdout",
     "output_type": "stream",
     "text": [
      "[[1 4 2]\n",
      " [5 1 3]]\n",
      "[[1 3]\n",
      " [4 5]]\n",
      "5\n"
     ]
    }
   ],
   "source": [
    "a=np.array([[1,4,2],[5,1,3],[9,4,5]])\n",
    "print(a[:2])\n",
    "print(a[1:,1:])\n",
    "print(a[2,2])"
   ]
  },
  {
   "cell_type": "code",
   "execution_count": 50,
   "id": "d4a12ede-3497-4af5-81bc-9ea47d9bd703",
   "metadata": {},
   "outputs": [
    {
     "name": "stdout",
     "output_type": "stream",
     "text": [
      "[[8 3 8]\n",
      " [8 4 5]]\n",
      "[[ 5  3  6]\n",
      " [11  4  7]]\n"
     ]
    }
   ],
   "source": [
    "print(np.sum([[[1,2,3],[4,1,3]],[[7,1,5],[4,3,2]]],axis=0)) # sum the columns\n",
    "print(np.sum([[[1,2,3],[4,1,3]],[[7,1,5],[4,3,2]]],axis=1)) # sum the rows"
   ]
  },
  {
   "cell_type": "code",
   "execution_count": 60,
   "id": "4cdfefab-3415-4584-a229-c7e2c789b68d",
   "metadata": {},
   "outputs": [
    {
     "name": "stdout",
     "output_type": "stream",
     "text": [
      "7\n",
      "8\n"
     ]
    }
   ],
   "source": [
    "a=np.array([5,3])\n",
    "b=np.array([2,5])\n",
    "print(np.sum(b))\n",
    "print(np.sum(a))"
   ]
  }
 ],
 "metadata": {
  "kernelspec": {
   "display_name": "Python 3 (ipykernel)",
   "language": "python",
   "name": "python3"
  },
  "language_info": {
   "codemirror_mode": {
    "name": "ipython",
    "version": 3
   },
   "file_extension": ".py",
   "mimetype": "text/x-python",
   "name": "python",
   "nbconvert_exporter": "python",
   "pygments_lexer": "ipython3",
   "version": "3.12.6"
  }
 },
 "nbformat": 4,
 "nbformat_minor": 5
}
