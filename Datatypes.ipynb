{
 "cells": [
  {
   "cell_type": "code",
   "execution_count": 1,
   "id": "c6b735c9-c764-4fbb-9e15-f7340316638f",
   "metadata": {},
   "outputs": [
    {
     "name": "stdout",
     "output_type": "stream",
     "text": [
      "PythonBatch1\n"
     ]
    }
   ],
   "source": [
    "\n",
    "Class=\"PythonBatch1\"\n",
    "print(Class)\n"
   ]
  },
  {
   "cell_type": "code",
   "execution_count": 77,
   "id": "70d4fcdb-a350-411f-beca-ccb45785960a",
   "metadata": {},
   "outputs": [
    {
     "data": {
      "text/plain": [
       "'pythonbatch1'"
      ]
     },
     "execution_count": 77,
     "metadata": {},
     "output_type": "execute_result"
    }
   ],
   "source": [
    "Class.lower()"
   ]
  },
  {
   "cell_type": "code",
   "execution_count": 79,
   "id": "be3e0114-3993-47af-b9ad-b1f79543652c",
   "metadata": {},
   "outputs": [
    {
     "data": {
      "text/plain": [
       "'PYTHONBATCH1'"
      ]
     },
     "execution_count": 79,
     "metadata": {},
     "output_type": "execute_result"
    }
   ],
   "source": [
    "Class.upper()"
   ]
  },
  {
   "cell_type": "code",
   "execution_count": 81,
   "id": "ce4fca94-c4a0-4b01-b2c7-4b6f673d585c",
   "metadata": {},
   "outputs": [
    {
     "data": {
      "text/plain": [
       "'Pythonbatch1'"
      ]
     },
     "execution_count": 81,
     "metadata": {},
     "output_type": "execute_result"
    }
   ],
   "source": [
    "#first letter capital\n",
    "Class.title()"
   ]
  },
  {
   "cell_type": "code",
   "execution_count": 83,
   "id": "0b4ec58e-d9f9-48c6-bb3a-18f4a95f501b",
   "metadata": {},
   "outputs": [
    {
     "data": {
      "text/plain": [
       "'Pythonbatch1'"
      ]
     },
     "execution_count": 83,
     "metadata": {},
     "output_type": "execute_result"
    }
   ],
   "source": [
    "#starting letter capital\n",
    "Class.capitalize()"
   ]
  },
  {
   "cell_type": "code",
   "execution_count": 85,
   "id": "ef8c8c4e-d2c4-44d7-9158-a89af20e5c78",
   "metadata": {},
   "outputs": [
    {
     "data": {
      "text/plain": [
       "'pYTHONbATCH1'"
      ]
     },
     "execution_count": 85,
     "metadata": {},
     "output_type": "execute_result"
    }
   ],
   "source": [
    "#upper to lower @ opposite\n",
    "Class.swapcase()"
   ]
  },
  {
   "cell_type": "code",
   "execution_count": 3,
   "id": "ed11d540-caa5-4113-b4d5-fcbf3180a361",
   "metadata": {},
   "outputs": [
    {
     "data": {
      "text/plain": [
       "False"
      ]
     },
     "execution_count": 3,
     "metadata": {},
     "output_type": "execute_result"
    }
   ],
   "source": [
    "#alpha values like a to z without spaces\n",
    "Class.isalpha()"
   ]
  },
  {
   "cell_type": "code",
   "execution_count": 89,
   "id": "e5eb1627-4021-44e9-a2fa-b5b20da04ac9",
   "metadata": {},
   "outputs": [
    {
     "data": {
      "text/plain": [
       "True"
      ]
     },
     "execution_count": 89,
     "metadata": {},
     "output_type": "execute_result"
    }
   ],
   "source": [
    "#both a to z and numeric values both \n",
    "Class.isalnum()"
   ]
  },
  {
   "cell_type": "code",
   "execution_count": 91,
   "id": "1c207bb7-3eaa-4aa5-a415-b7c7b05f51c0",
   "metadata": {},
   "outputs": [
    {
     "data": {
      "text/plain": [
       "False"
      ]
     },
     "execution_count": 91,
     "metadata": {},
     "output_type": "execute_result"
    }
   ],
   "source": [
    "#numeric values like 1 to nth values\n",
    "Class.isnumeric()"
   ]
  },
  {
   "cell_type": "code",
   "execution_count": 93,
   "id": "2471afe0-a786-4ccf-a77b-7e5d38a630b1",
   "metadata": {},
   "outputs": [
    {
     "data": {
      "text/plain": [
       "True"
      ]
     },
     "execution_count": 93,
     "metadata": {},
     "output_type": "execute_result"
    }
   ],
   "source": [
    "Class.startswith(\"P\")"
   ]
  },
  {
   "cell_type": "code",
   "execution_count": 17,
   "id": "58d120f7-ebe0-476f-89ae-bfec76aba805",
   "metadata": {},
   "outputs": [],
   "source": [
    "C=\"  Data   Science  \""
   ]
  },
  {
   "cell_type": "code",
   "execution_count": 7,
   "id": "7ac645aa-0780-4f63-9f0c-0ca5c294068a",
   "metadata": {},
   "outputs": [
    {
     "data": {
      "text/plain": [
       "True"
      ]
     },
     "execution_count": 7,
     "metadata": {},
     "output_type": "execute_result"
    }
   ],
   "source": [
    "C.endswith(\"e\")"
   ]
  },
  {
   "cell_type": "code",
   "execution_count": 11,
   "id": "9c4cd43a-8e8f-4862-8386-d12b353af431",
   "metadata": {},
   "outputs": [
    {
     "data": {
      "text/plain": [
       "True"
      ]
     },
     "execution_count": 11,
     "metadata": {},
     "output_type": "execute_result"
    }
   ],
   "source": [
    "C.startswith(\"D\")"
   ]
  },
  {
   "cell_type": "code",
   "execution_count": 13,
   "id": "481dc483-38fa-43d0-a010-505c4520baab",
   "metadata": {},
   "outputs": [
    {
     "data": {
      "text/plain": [
       "['Data', 'Science']"
      ]
     },
     "execution_count": 13,
     "metadata": {},
     "output_type": "execute_result"
    }
   ],
   "source": [
    "C.split()"
   ]
  },
  {
   "cell_type": "code",
   "execution_count": 15,
   "id": "d69184da-807e-433b-bb7e-3a68b608470f",
   "metadata": {},
   "outputs": [
    {
     "data": {
      "text/plain": [
       "['D', 't', ' Science']"
      ]
     },
     "execution_count": 15,
     "metadata": {},
     "output_type": "execute_result"
    }
   ],
   "source": [
    "C.split(\"a\")"
   ]
  },
  {
   "cell_type": "code",
   "execution_count": 19,
   "id": "1d71565a-5a6a-435b-b99a-8cf7c9e0ee96",
   "metadata": {},
   "outputs": [
    {
     "data": {
      "text/plain": [
       "'Data   Science'"
      ]
     },
     "execution_count": 19,
     "metadata": {},
     "output_type": "execute_result"
    }
   ],
   "source": [
    "# used to remove spaces in first and last\n",
    "C.strip()"
   ]
  },
  {
   "cell_type": "code",
   "execution_count": 23,
   "id": "b2eed6fa-6dd4-4fe8-adbb-6a7066db896d",
   "metadata": {},
   "outputs": [
    {
     "data": {
      "text/plain": [
       "'Data   Science  '"
      ]
     },
     "execution_count": 23,
     "metadata": {},
     "output_type": "execute_result"
    }
   ],
   "source": [
    "C.lstrip()\n"
   ]
  },
  {
   "cell_type": "code",
   "execution_count": 25,
   "id": "2b23a80a-0c09-41b8-8c2b-96cd8fce9c2a",
   "metadata": {},
   "outputs": [
    {
     "data": {
      "text/plain": [
       "'  Data   Science'"
      ]
     },
     "execution_count": 25,
     "metadata": {},
     "output_type": "execute_result"
    }
   ],
   "source": [
    "C.rstrip()"
   ]
  },
  {
   "cell_type": "code",
   "execution_count": 27,
   "id": "d56c09d3-6559-4af8-b15b-29f35c07b292",
   "metadata": {},
   "outputs": [
    {
     "data": {
      "text/plain": [
       "'***data***'"
      ]
     },
     "execution_count": 27,
     "metadata": {},
     "output_type": "execute_result"
    }
   ],
   "source": [
    "a=\"data\"\n",
    "a.center(10,\"*\")"
   ]
  },
  {
   "cell_type": "code",
   "execution_count": 29,
   "id": "42ab3ea4-bdfd-45cc-a1b3-45308382ae10",
   "metadata": {},
   "outputs": [
    {
     "data": {
      "text/plain": [
       "'******data'"
      ]
     },
     "execution_count": 29,
     "metadata": {},
     "output_type": "execute_result"
    }
   ],
   "source": [
    "a.rjust(10,\"*\")"
   ]
  },
  {
   "cell_type": "code",
   "execution_count": 31,
   "id": "e1ef2e6a-8340-41d6-a443-4189de656d02",
   "metadata": {},
   "outputs": [
    {
     "data": {
      "text/plain": [
       "'data******'"
      ]
     },
     "execution_count": 31,
     "metadata": {},
     "output_type": "execute_result"
    }
   ],
   "source": [
    "a.ljust(10,\"*\")"
   ]
  },
  {
   "cell_type": "code",
   "execution_count": 3,
   "id": "c7e20de1-069e-4f25-ad39-928b642e9090",
   "metadata": {},
   "outputs": [
    {
     "data": {
      "text/plain": [
       "'a,a,c,d,e,f,g'"
      ]
     },
     "execution_count": 3,
     "metadata": {},
     "output_type": "execute_result"
    }
   ],
   "source": [
    "alphabets=('a,b,c,d,e,f,g')\n",
    "alphabets.replace('b','a')"
   ]
  },
  {
   "cell_type": "markdown",
   "id": "687d51d4-1c9d-4600-a262-e6e233642881",
   "metadata": {},
   "source": [
    "## Data Types"
   ]
  },
  {
   "cell_type": "markdown",
   "id": "496f2c1a-3a14-4bb4-9ba3-65f9a8175c11",
   "metadata": {},
   "source": [
    "### 1.Immutable Data Types\n",
    "- 1.Numeric Data 2.String 3.Tuple\n",
    "### 2.Mutable Data Types\n",
    "- 1.List 2.Dictionary 3.Set"
   ]
  },
  {
   "cell_type": "markdown",
   "id": "bd2e38e2-c57f-4618-ba42-f3bd96d35b9e",
   "metadata": {},
   "source": [
    "#### Immutable data types\n",
    "##### Numeric\n",
    "##### 1.int 2.float 3.complex\n",
    "- int:this value represented by int\n",
    "- interger contain +ve-0--ve i.e.. whole numbers\n",
    "- there is no limit for how long as integer value"
   ]
  },
  {
   "cell_type": "code",
   "execution_count": 25,
   "id": "ec88e6b8-aa71-40da-9f1d-f4b18b7f4dc2",
   "metadata": {},
   "outputs": [
    {
     "data": {
      "text/plain": [
       "int"
      ]
     },
     "execution_count": 25,
     "metadata": {},
     "output_type": "execute_result"
    }
   ],
   "source": [
    "#int\n",
    "x=15\n",
    "type(x)"
   ]
  },
  {
   "cell_type": "code",
   "execution_count": 124,
   "id": "5968cee0-2ce5-4be5-b126-4c6bcff5da50",
   "metadata": {},
   "outputs": [
    {
     "name": "stdin",
     "output_type": "stream",
     "text": [
      "Enter Value 25\n"
     ]
    },
    {
     "name": "stdout",
     "output_type": "stream",
     "text": [
      "25\n"
     ]
    },
    {
     "data": {
      "text/plain": [
       "int"
      ]
     },
     "execution_count": 124,
     "metadata": {},
     "output_type": "execute_result"
    }
   ],
   "source": [
    "y=int(input(\"Enter Value\"))\n",
    "print(y)\n",
    "type(y)\n"
   ]
  },
  {
   "cell_type": "code",
   "execution_count": 120,
   "id": "118f0a8c-3110-43fc-a6a1-b8dbb06df2c6",
   "metadata": {},
   "outputs": [
    {
     "data": {
      "text/plain": [
       "float"
      ]
     },
     "execution_count": 120,
     "metadata": {},
     "output_type": "execute_result"
    }
   ],
   "source": [
    "#float\n",
    "c=25.5\n",
    "type(c)"
   ]
  },
  {
   "cell_type": "code",
   "execution_count": 126,
   "id": "881995df-b7ac-41e2-be34-4a7a578f9c08",
   "metadata": {},
   "outputs": [
    {
     "name": "stdin",
     "output_type": "stream",
     "text": [
      "Enter Value 75.5\n"
     ]
    },
    {
     "name": "stdout",
     "output_type": "stream",
     "text": [
      "75.5\n"
     ]
    },
    {
     "data": {
      "text/plain": [
       "float"
      ]
     },
     "execution_count": 126,
     "metadata": {},
     "output_type": "execute_result"
    }
   ],
   "source": [
    "d=float(input(\"Enter Value\"))\n",
    "print(d)\n",
    "type(d)"
   ]
  },
  {
   "cell_type": "code",
   "execution_count": 130,
   "id": "e07d0d64-db80-45c7-a9d5-6d59c3b98aec",
   "metadata": {},
   "outputs": [
    {
     "data": {
      "text/plain": [
       "complex"
      ]
     },
     "execution_count": 130,
     "metadata": {},
     "output_type": "execute_result"
    }
   ],
   "source": [
    "#complex i+nj\n",
    "b=4+5j\n",
    "type(b)"
   ]
  },
  {
   "cell_type": "markdown",
   "id": "b1945c43-9325-4b56-81e5-8db5dbe92b37",
   "metadata": {},
   "source": [
    "### string\n",
    "- collection of one or more characters\n",
    "- it can be represented by single quote(''),double quote(\" \") or thripple quote(''' ''')\n"
   ]
  },
  {
   "cell_type": "code",
   "execution_count": 139,
   "id": "c7e25414-2d4c-4cf8-9986-6e459b6a1860",
   "metadata": {},
   "outputs": [
    {
     "name": "stdout",
     "output_type": "stream",
     "text": [
      "welcome\n",
      "hello\n",
      "Hi\n"
     ]
    },
    {
     "data": {
      "text/plain": [
       "str"
      ]
     },
     "execution_count": 139,
     "metadata": {},
     "output_type": "execute_result"
    }
   ],
   "source": [
    "#single quote ,double quote and thripple quote\n",
    "string1='welcome'\n",
    "print(string1)\n",
    "string2=\"hello\"\n",
    "print(string2)\n",
    "string3='''Hi'''\n",
    "print(string3)\n",
    "type(string1)"
   ]
  },
  {
   "cell_type": "code",
   "execution_count": 32,
   "id": "7e4af975-0ba8-4d8d-a0ce-45cc2c44073d",
   "metadata": {},
   "outputs": [
    {
     "name": "stdout",
     "output_type": "stream",
     "text": [
      " Hi Hello\n",
      "Welcome\n"
     ]
    },
    {
     "data": {
      "text/plain": [
       "str"
      ]
     },
     "execution_count": 32,
     "metadata": {},
     "output_type": "execute_result"
    }
   ],
   "source": [
    "# multiple lines used thripple quotes\n",
    "string=''' Hi Hello\n",
    "Welcome'''\n",
    "print(string)\n",
    "type(string)"
   ]
  },
  {
   "cell_type": "markdown",
   "id": "affd7bab-70b6-41af-bdbf-54f40a322adb",
   "metadata": {},
   "source": [
    "#### indexing and slicing in string"
   ]
  },
  {
   "cell_type": "code",
   "execution_count": 47,
   "id": "d7fa7f9b-949a-4551-9821-3cf362fe7a65",
   "metadata": {},
   "outputs": [
    {
     "name": "stdout",
     "output_type": "stream",
     "text": [
      "s\n"
     ]
    }
   ],
   "source": [
    "#indexing\n",
    "xy='class'\n",
    "print(xy[4])\n"
   ]
  },
  {
   "cell_type": "code",
   "execution_count": 51,
   "id": "c098f397-afa8-4e94-880d-09bcc735aced",
   "metadata": {},
   "outputs": [
    {
     "data": {
      "text/plain": [
       "'ua'"
      ]
     },
     "execution_count": 51,
     "metadata": {},
     "output_type": "execute_result"
    }
   ],
   "source": [
    "yz=\"kumar\"\n",
    "yz[1:4:2]"
   ]
  },
  {
   "cell_type": "code",
   "execution_count": 5,
   "id": "799359f7-536e-4713-b8dd-ddf261a51d85",
   "metadata": {},
   "outputs": [
    {
     "data": {
      "text/plain": [
       "'MALE'"
      ]
     },
     "execution_count": 5,
     "metadata": {},
     "output_type": "execute_result"
    }
   ],
   "source": [
    "x=\"Macine Learning\"\n",
    "#get out put as MALE\n",
    "x[:2].upper()+x[7:9].upper()\n",
    "x["
   ]
  },
  {
   "cell_type": "code",
   "execution_count": 13,
   "id": "eee5e56e-7aed-4f8a-9050-5a6182f1bd63",
   "metadata": {},
   "outputs": [
    {
     "data": {
      "text/plain": [
       "'.23'"
      ]
     },
     "execution_count": 13,
     "metadata": {},
     "output_type": "execute_result"
    }
   ],
   "source": [
    "k=['data',9,'2024.23',(3+4j),[10,20,30]]\n",
    "k[2][4:]"
   ]
  },
  {
   "cell_type": "code",
   "execution_count": 15,
   "id": "39b8dab1-e8df-4f0e-9845-acccbe2037f3",
   "metadata": {},
   "outputs": [],
   "source": [
    "topics=[\n",
    "    ['Math',['Algebra','Calculus','Geometry']],\n",
    "    ['Science',['Physics','Chemistry','Biology']],\n",
    "    ['Technology',['Ancient','Medieval','Modern']],\n",
    "    ['Art',['Painting','Sculpture','Architecture']]\n",
    "]"
   ]
  },
  {
   "cell_type": "code",
   "execution_count": 21,
   "id": "17e52ea8-f57f-4174-81de-da6eaefcd1ee",
   "metadata": {},
   "outputs": [
    {
     "name": "stdout",
     "output_type": "stream",
     "text": [
      "Modern Architecture\n"
     ]
    }
   ],
   "source": [
    "#print modern architecture\n",
    "print(topics[2][1][2]+\" \"+topics[3][1][2])"
   ]
  },
  {
   "cell_type": "code",
   "execution_count": 27,
   "id": "ccc86a6e-a2aa-4037-bcb1-aee87af8e2ff",
   "metadata": {},
   "outputs": [
    {
     "name": "stdout",
     "output_type": "stream",
     "text": [
      "GEO, BIO, CHE\n"
     ]
    }
   ],
   "source": [
    "#print GEO, BIO, CHEM\n",
    "print(topics[0][1][2][0:3].upper()+\", \"+topics[1][1][2][0:3].upper()+\", \"+topics[1][1][1][0:3].upper())"
   ]
  },
  {
   "cell_type": "markdown",
   "id": "cf82f918-83ce-4e17-88e6-ab593f6df202",
   "metadata": {},
   "source": [
    "### tuple"
   ]
  },
  {
   "cell_type": "code",
   "execution_count": 38,
   "id": "acbbe82c-43e1-4c0f-8977-e44efdc18e8a",
   "metadata": {},
   "outputs": [
    {
     "data": {
      "text/plain": [
       "tuple"
      ]
     },
     "execution_count": 38,
     "metadata": {},
     "output_type": "execute_result"
    }
   ],
   "source": [
    "weekdays=('Sun','Mon','Tue','Wed','Thu','Fri','Sat')\n",
    "type(weekdays)"
   ]
  },
  {
   "cell_type": "code",
   "execution_count": 42,
   "id": "b315151c-39ae-4644-93ca-c4618f6c6052",
   "metadata": {},
   "outputs": [
    {
     "data": {
      "text/plain": [
       "('Sun', 'Mon', 'Tue', 'Wed', 'Thu', 'Fri', 'Sat')"
      ]
     },
     "execution_count": 42,
     "metadata": {},
     "output_type": "execute_result"
    }
   ],
   "source": [
    "weekdays"
   ]
  },
  {
   "cell_type": "code",
   "execution_count": 15,
   "id": "8d098b54-dc84-45ec-97e2-3be28e459449",
   "metadata": {},
   "outputs": [
    {
     "data": {
      "text/plain": [
       "('Sun', 'Mon', 'Tue', 'Wed')"
      ]
     },
     "execution_count": 15,
     "metadata": {},
     "output_type": "execute_result"
    }
   ],
   "source": [
    "weekdays[0:4]"
   ]
  },
  {
   "cell_type": "markdown",
   "id": "668ee955-f0dd-4757-9fdf-3e2eec8e1b07",
   "metadata": {},
   "source": [
    "## mutable\n",
    "### list"
   ]
  },
  {
   "cell_type": "code",
   "execution_count": 19,
   "id": "81399375-060a-40f7-9b2b-655ea18a969b",
   "metadata": {},
   "outputs": [
    {
     "data": {
      "text/plain": [
       "[18, 15, 40, 50]"
      ]
     },
     "execution_count": 19,
     "metadata": {},
     "output_type": "execute_result"
    }
   ],
   "source": [
    "# list can modify the values and it is mutable\n",
    "salaries=[18,15,40,50]\n",
    "salaries"
   ]
  },
  {
   "cell_type": "code",
   "execution_count": 35,
   "id": "8353bb65-98ee-40b7-9b6b-290650df91e1",
   "metadata": {},
   "outputs": [
    {
     "data": {
      "text/plain": [
       "[20, 15, 40, 50]"
      ]
     },
     "execution_count": 35,
     "metadata": {},
     "output_type": "execute_result"
    }
   ],
   "source": [
    "salaries[0]=20\n",
    "salaries"
   ]
  },
  {
   "cell_type": "code",
   "execution_count": 21,
   "id": "2859ea99-4e40-4633-b353-3151a5cb4c94",
   "metadata": {},
   "outputs": [
    {
     "data": {
      "text/plain": [
       "[40, 50]"
      ]
     },
     "execution_count": 21,
     "metadata": {},
     "output_type": "execute_result"
    }
   ],
   "source": [
    "salaries[2:4]"
   ]
  },
  {
   "cell_type": "markdown",
   "id": "7e274e8a-0c89-4b32-9417-6e3064d39e2b",
   "metadata": {},
   "source": [
    "### Dictionary\n",
    "Dictionaries are used to store key:value pairs. \n",
    " a dictionary is collection which is ordered ,changable and do not allow duplicates.\n",
    " dictionaries written with curly brackets, and have keys and values"
   ]
  },
  {
   "cell_type": "code",
   "execution_count": 44,
   "id": "d26e0fd5-245d-491a-9b39-2826a2a20c7c",
   "metadata": {},
   "outputs": [
    {
     "name": "stdout",
     "output_type": "stream",
     "text": [
      "{'brand': 'Ford', 'Model': 'mustang', 'year': 1964}\n"
     ]
    }
   ],
   "source": [
    "thisdict={\n",
    "    'brand':'Ford',\n",
    "    'Model':'mustang',\n",
    "    'year':1964\n",
    "}\n",
    "print(thisdict)"
   ]
  },
  {
   "cell_type": "code",
   "execution_count": 46,
   "id": "2bedabeb-b409-4391-b9ba-00ae9161def1",
   "metadata": {},
   "outputs": [
    {
     "name": "stdout",
     "output_type": "stream",
     "text": [
      "3\n"
     ]
    }
   ],
   "source": [
    "print(len(thisdict))"
   ]
  },
  {
   "cell_type": "code",
   "execution_count": 48,
   "id": "d5b7fa4f-cca8-4e37-87ac-94cd9661a6ee",
   "metadata": {},
   "outputs": [
    {
     "data": {
      "text/plain": [
       "'Ford'"
      ]
     },
     "execution_count": 48,
     "metadata": {},
     "output_type": "execute_result"
    }
   ],
   "source": [
    "thisdict['brand']"
   ]
  },
  {
   "cell_type": "code",
   "execution_count": 60,
   "id": "8148cf80-aca7-41d7-8801-dda1b5e5f976",
   "metadata": {},
   "outputs": [
    {
     "data": {
      "text/plain": [
       "1964"
      ]
     },
     "execution_count": 60,
     "metadata": {},
     "output_type": "execute_result"
    }
   ],
   "source": [
    "thisdict.get('year')"
   ]
  },
  {
   "cell_type": "markdown",
   "id": "7d3df924-45d1-4cb1-877d-2a8c3b96fbe8",
   "metadata": {},
   "source": [
    "### set"
   ]
  },
  {
   "cell_type": "code",
   "execution_count": 85,
   "id": "35533e27-4351-4b2d-8110-0982a11985d9",
   "metadata": {},
   "outputs": [
    {
     "data": {
      "text/plain": [
       "{1, 2, 3, 5, 8}"
      ]
     },
     "execution_count": 85,
     "metadata": {},
     "output_type": "execute_result"
    }
   ],
   "source": [
    "#set and removes dulpicates , repeated words like unique in sql\n",
    "myset={1,2,2,5,3,5,8}\n",
    "myset"
   ]
  },
  {
   "cell_type": "code",
   "execution_count": 68,
   "id": "c1f85561-cecd-47db-89a1-9795f37ab78c",
   "metadata": {},
   "outputs": [
    {
     "data": {
      "text/plain": [
       "set"
      ]
     },
     "execution_count": 68,
     "metadata": {},
     "output_type": "execute_result"
    }
   ],
   "source": [
    "type(myset)"
   ]
  },
  {
   "cell_type": "code",
   "execution_count": 70,
   "id": "62535fd3-77db-493b-967c-26788a563232",
   "metadata": {},
   "outputs": [
    {
     "data": {
      "text/plain": [
       "{1, 'ka', 'ru'}"
      ]
     },
     "execution_count": 70,
     "metadata": {},
     "output_type": "execute_result"
    }
   ],
   "source": [
    "sets={'ka','ru',1,1,'ru'}\n",
    "sets"
   ]
  },
  {
   "cell_type": "code",
   "execution_count": 77,
   "id": "58b89b3b-fe49-4c06-837e-26a8ff7b0fb4",
   "metadata": {},
   "outputs": [
    {
     "data": {
      "text/plain": [
       "{1, 2, 3, 5, 8, 9}"
      ]
     },
     "execution_count": 77,
     "metadata": {},
     "output_type": "execute_result"
    }
   ],
   "source": [
    "myset.add(9)\n",
    "myset"
   ]
  },
  {
   "cell_type": "code",
   "execution_count": 87,
   "id": "3928af08-78f1-4610-acdc-a498001b96a4",
   "metadata": {},
   "outputs": [
    {
     "data": {
      "text/plain": [
       "{1, 2, 3, 5}"
      ]
     },
     "execution_count": 87,
     "metadata": {},
     "output_type": "execute_result"
    }
   ],
   "source": [
    "myset.remove(8)\n",
    "myset"
   ]
  }
 ],
 "metadata": {
  "kernelspec": {
   "display_name": "Python [conda env:base] *",
   "language": "python",
   "name": "conda-base-py"
  },
  "language_info": {
   "codemirror_mode": {
    "name": "ipython",
    "version": 3
   },
   "file_extension": ".py",
   "mimetype": "text/x-python",
   "name": "python",
   "nbconvert_exporter": "python",
   "pygments_lexer": "ipython3",
   "version": "3.12.7"
  }
 },
 "nbformat": 4,
 "nbformat_minor": 5
}
