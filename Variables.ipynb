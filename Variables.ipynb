{
 "cells": [
  {
   "cell_type": "markdown",
   "id": "1f1d1bc9-c85c-4605-8948-ea10f9c827cf",
   "metadata": {},
   "source": [
    "# Variables\n",
    "- variables are container that store values\n",
    "- 4 rules to assign variables\n",
    "- 1st:python is case sensitive language so 'a' and 'A' will be treated as a different entities\n",
    "  "
   ]
  },
  {
   "cell_type": "code",
   "execution_count": 6,
   "id": "20963bd9-cef6-405e-8fc6-957449599ab4",
   "metadata": {},
   "outputs": [
    {
     "ename": "NameError",
     "evalue": "name 'A' is not defined",
     "output_type": "error",
     "traceback": [
      "\u001b[1;31m---------------------------------------------------------------------------\u001b[0m",
      "\u001b[1;31mNameError\u001b[0m                                 Traceback (most recent call last)",
      "Cell \u001b[1;32mIn[6], line 2\u001b[0m\n\u001b[0;32m      1\u001b[0m a\u001b[38;5;241m=\u001b[39m\u001b[38;5;241m10\u001b[39m\n\u001b[1;32m----> 2\u001b[0m A\n",
      "\u001b[1;31mNameError\u001b[0m: name 'A' is not defined"
     ]
    }
   ],
   "source": [
    "a=10\n",
    "A"
   ]
  },
  {
   "cell_type": "code",
   "execution_count": 38,
   "id": "15078ecb-3581-495f-b9af-052bfcf3c7e4",
   "metadata": {},
   "outputs": [
    {
     "data": {
      "text/plain": [
       "19"
      ]
     },
     "execution_count": 38,
     "metadata": {},
     "output_type": "execute_result"
    }
   ],
   "source": [
    "#2d step: variable cannot start with numbers or special characters except _(@hhdh=10 error)\n",
    "_a=19\n",
    "_a"
   ]
  },
  {
   "cell_type": "code",
   "execution_count": 44,
   "id": "23312ea7-c11c-45c7-b645-6bc5135de7d7",
   "metadata": {},
   "outputs": [
    {
     "data": {
      "text/plain": [
       "20"
      ]
     },
     "execution_count": 44,
     "metadata": {},
     "output_type": "execute_result"
    }
   ],
   "source": [
    "#3rd rule: variable cannot contain spaces example (asd sdf=10 error )\n",
    "ab_c=20\n",
    "ab_c"
   ]
  },
  {
   "cell_type": "code",
   "execution_count": 48,
   "id": "41c90a25-1c1c-457c-ae75-67c6345bb7c8",
   "metadata": {},
   "outputs": [
    {
     "data": {
      "text/plain": [
       "35"
      ]
     },
     "execution_count": 48,
     "metadata": {},
     "output_type": "execute_result"
    }
   ],
   "source": [
    "#4th rule:variable contain alphanumeric values\n",
    "asj123=35\n",
    "asj123"
   ]
  },
  {
   "cell_type": "code",
   "execution_count": 54,
   "id": "01c05bbd-f6c0-4dba-8e28-859015a74ca7",
   "metadata": {},
   "outputs": [],
   "source": [
    "#single value assingment\n",
    "name='kumar'"
   ]
  },
  {
   "cell_type": "code",
   "execution_count": 66,
   "id": "4be8d113-6639-4bb7-bad6-32a99a61c5a8",
   "metadata": {},
   "outputs": [
    {
     "name": "stdout",
     "output_type": "stream",
     "text": [
      "10\n",
      "10\n",
      "66\n"
     ]
    }
   ],
   "source": [
    "#multiple value assignment\n",
    "x=y=z=10\n",
    "print(y)\n",
    "print(x)\n",
    "x,y,z=30,40,66\n",
    "print(z)"
   ]
  },
  {
   "cell_type": "code",
   "execution_count": 82,
   "id": "968ef8ee-63c9-4992-ad3d-c7505c145c02",
   "metadata": {},
   "outputs": [
    {
     "name": "stdin",
     "output_type": "stream",
     "text": [
      "enter 4 digit password 4556\n"
     ]
    },
    {
     "name": "stdout",
     "output_type": "stream",
     "text": [
      "4556\n"
     ]
    }
   ],
   "source": [
    "#input variables\n",
    "Enter_password=int(input('enter 4 digit password'))\n",
    "print(Enter_password)"
   ]
  }
 ],
 "metadata": {
  "kernelspec": {
   "display_name": "Python [conda env:base] *",
   "language": "python",
   "name": "conda-base-py"
  },
  "language_info": {
   "codemirror_mode": {
    "name": "ipython",
    "version": 3
   },
   "file_extension": ".py",
   "mimetype": "text/x-python",
   "name": "python",
   "nbconvert_exporter": "python",
   "pygments_lexer": "ipython3",
   "version": "3.12.7"
  }
 },
 "nbformat": 4,
 "nbformat_minor": 5
}
