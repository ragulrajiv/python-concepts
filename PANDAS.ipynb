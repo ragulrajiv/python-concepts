{
 "cells": [
  {
   "cell_type": "code",
   "execution_count": 3,
   "id": "09ba7596-6067-44c7-9153-479bab9c6b53",
   "metadata": {},
   "outputs": [
    {
     "name": "stdout",
     "output_type": "stream",
     "text": [
      "[1, 2, 3, 4, 5]\n",
      "0    1\n",
      "1    2\n",
      "2    3\n",
      "3    4\n",
      "4    5\n",
      "dtype: int64\n"
     ]
    }
   ],
   "source": [
    "import pandas as pd\n",
    "data=[1,2,3,4,5]\n",
    "print(data)\n",
    "series=pd.Series(data)\n",
    "print(series)\n"
   ]
  },
  {
   "cell_type": "code",
   "execution_count": 4,
   "id": "81262bad-ceae-4ae2-8f3f-5e7883baa844",
   "metadata": {},
   "outputs": [
    {
     "name": "stdout",
     "output_type": "stream",
     "text": [
      "a    1\n",
      "b    2\n",
      "c    3\n",
      "d    4\n",
      "dtype: int64\n"
     ]
    }
   ],
   "source": [
    "List=pd.Series([1,2,3,4],index=['a','b','c','d'])\n",
    "print(List)"
   ]
  },
  {
   "cell_type": "code",
   "execution_count": 5,
   "id": "232ba242-36ab-4ff5-a76d-b702f3adf782",
   "metadata": {},
   "outputs": [
    {
     "name": "stdout",
     "output_type": "stream",
     "text": [
      "[1, 2, 3, 4, 5]\n"
     ]
    }
   ],
   "source": [
    "import pandas as pd\n",
    "data=[1,2,3,4,5]\n",
    "df=pd.DataFrame(data)\n",
    "print(data)"
   ]
  },
  {
   "cell_type": "code",
   "execution_count": 6,
   "id": "79abe6c3-d1f6-498a-ab8a-671024f88871",
   "metadata": {},
   "outputs": [
    {
     "name": "stdout",
     "output_type": "stream",
     "text": [
      "a    4\n",
      "b    5\n",
      "dtype: int64\n"
     ]
    }
   ],
   "source": [
    "Series=pd.Series([4,5], index=[\"a\",\"b\"])\n",
    "print(Series)\n",
    "type(Series)\n",
    "df=pd.DataFrame(Series)"
   ]
  },
  {
   "cell_type": "code",
   "execution_count": 7,
   "id": "2c35d2a0-deed-4204-8870-2162347eddda",
   "metadata": {},
   "outputs": [],
   "source": [
    "import pandas as pd\n",
    "import numpy as np\n",
    "df=pd.DataFrame(np.random.randint(0,10),(3,3),columns=['x1','x2','x3'])"
   ]
  },
  {
   "cell_type": "code",
   "execution_count": 8,
   "id": "f8585c28-1ddc-42fa-80b4-bc0be503fd87",
   "metadata": {},
   "outputs": [
    {
     "name": "stdout",
     "output_type": "stream",
     "text": [
      "    a   b\n",
      "0  a0  b0\n",
      "1  a1  b1\n",
      "2  a2  b2\n",
      "    a   b\n",
      "0  a0  b0\n",
      "1  a1  b1\n",
      "2  a2  b2\n",
      "0  a3  b3\n",
      "1  a4  b4\n",
      "2  a5  b5\n"
     ]
    }
   ],
   "source": [
    "#concatenation along rows(axis=0)\n",
    "import pandas as pd\n",
    "df1=pd.DataFrame({\n",
    "    'a':['a0','a1','a2'],\n",
    "    'b':['b0','b1','b2']\n",
    "})\n",
    "print(df1)\n",
    "\n",
    "df2=pd.DataFrame({\n",
    "    'a':['a3','a4','a5'],\n",
    "    'b':['b3','b4','b5']\n",
    "})\n",
    "result=pd.concat([df1,df2])\n",
    "print(result)"
   ]
  },
  {
   "cell_type": "code",
   "execution_count": 9,
   "id": "32e5235b-2733-487e-991b-53a91d25edd6",
   "metadata": {},
   "outputs": [
    {
     "name": "stdout",
     "output_type": "stream",
     "text": [
      "    a   b\n",
      "0  a0  b0\n",
      "1  a1  b1\n",
      "2  a2  b2\n",
      "    a   b   a   b\n",
      "0  a0  b0  a3  b3\n",
      "1  a1  b1  a4  b4\n",
      "2  a2  b2  a5  b5\n"
     ]
    }
   ],
   "source": [
    "#concatenation along column(axis=1)\n",
    "import pandas as pd\n",
    "df1=pd.DataFrame({\n",
    "    'a':['a0','a1','a2'],\n",
    "    'b':['b0','b1','b2']\n",
    "})\n",
    "print(df1)\n",
    "\n",
    "df2=pd.DataFrame({\n",
    "    'a':['a3','a4','a5'],\n",
    "    'b':['b3','b4','b5']\n",
    "})\n",
    "result=pd.concat([df1,df2],axis=1)\n",
    "print(result)"
   ]
  },
  {
   "cell_type": "code",
   "execution_count": 10,
   "id": "b96a8124-dcb7-429b-bcfc-331069831b16",
   "metadata": {},
   "outputs": [
    {
     "name": "stdout",
     "output_type": "stream",
     "text": [
      "    a   b\n",
      "0  a0  b0\n",
      "1  a1  b1\n",
      "2  a2  b2\n",
      "    a   b\n",
      "0  a0  b0\n",
      "1  a1  b1\n",
      "2  a2  b2\n",
      "3  a3  b3\n",
      "4  a4  b4\n",
      "5  a5  b5\n"
     ]
    }
   ],
   "source": [
    "#concatenation along row(axis=0)\n",
    "#ignore_index=True removes the index and starts from the begining and create a new one\n",
    "import pandas as pd\n",
    "df1=pd.DataFrame({\n",
    "    'a':['a0','a1','a2'],\n",
    "    'b':['b0','b1','b2']\n",
    "})\n",
    "print(df1)\n",
    "\n",
    "df2=pd.DataFrame({\n",
    "    'a':['a3','a4','a5'],\n",
    "    'b':['b3','b4','b5']\n",
    "})\n",
    "result=pd.concat([df1,df2],ignore_index=True)\n",
    "print(result)"
   ]
  },
  {
   "cell_type": "markdown",
   "id": "0ab2388e-7cc8-4b10-8f96-c79533fc64d2",
   "metadata": {},
   "source": [
    "merge in pandas\n",
    "1.left merge\n",
    "2.right merge\n",
    "3.inner merge\n",
    "4.outer merge"
   ]
  },
  {
   "cell_type": "code",
   "execution_count": 11,
   "id": "feb6101d-c1a4-4395-bd5a-a87532ccd9a3",
   "metadata": {},
   "outputs": [
    {
     "name": "stdout",
     "output_type": "stream",
     "text": [
      "  key value\n",
      "0   a     1\n",
      "1   b     2\n",
      "2   c     3\n",
      "3   d     4\n",
      "  key value\n",
      "0   b     5\n",
      "1   d     6\n",
      "2   e     7\n",
      "3   f     8\n",
      "  key value_x value_y\n",
      "0   b       2       5\n",
      "1   d       4       6\n"
     ]
    }
   ],
   "source": [
    "#merge\n",
    "#1 inner merge\n",
    "df1=pd.DataFrame({\n",
    "    'key':['a','b','c','d'],\n",
    "    'value':['1','2','3','4']\n",
    "})\n",
    "print(df1)\n",
    "\n",
    "df2=pd.DataFrame({\n",
    "    'key':['b','d','e','f'],\n",
    "    'value':['5','6','7','8']\n",
    "})\n",
    "print(df2)\n",
    "result=pd.merge(df1,df2, on='key',how='inner')\n",
    "print(result)"
   ]
  },
  {
   "cell_type": "code",
   "execution_count": 12,
   "id": "0dd12f9b-f4b7-4365-8853-f124302328be",
   "metadata": {},
   "outputs": [
    {
     "name": "stdout",
     "output_type": "stream",
     "text": [
      "  key value\n",
      "0   a     1\n",
      "1   b     2\n",
      "2   c     3\n",
      "3   d     4\n",
      "  key value\n",
      "0   b     5\n",
      "1   d     6\n",
      "2   e     7\n",
      "3   f     8\n",
      "  key value_x value_y\n",
      "0   a       1     NaN\n",
      "1   b       2       5\n",
      "2   c       3     NaN\n",
      "3   d       4       6\n"
     ]
    }
   ],
   "source": [
    "#merge\n",
    "#2 left merge\n",
    "df1=pd.DataFrame({\n",
    "    'key':['a','b','c','d'],\n",
    "    'value':['1','2','3','4']\n",
    "})\n",
    "print(df1)\n",
    "\n",
    "df2=pd.DataFrame({\n",
    "    'key':['b','d','e','f'],\n",
    "    'value':['5','6','7','8']\n",
    "})\n",
    "print(df2)\n",
    "result=pd.merge(df1,df2, on='key',how='left')\n",
    "print(result)"
   ]
  },
  {
   "cell_type": "code",
   "execution_count": 13,
   "id": "2d2b6349-71f7-4901-a7f8-5bba4d962d82",
   "metadata": {},
   "outputs": [
    {
     "name": "stdout",
     "output_type": "stream",
     "text": [
      "  key value\n",
      "0   a     1\n",
      "1   b     2\n",
      "2   c     3\n",
      "3   d     4\n",
      "  key value\n",
      "0   b     5\n",
      "1   d     6\n",
      "2   e     7\n",
      "3   f     8\n",
      "  key value_x value_y\n",
      "0   a       1     NaN\n",
      "1   b       2       5\n",
      "2   c       3     NaN\n",
      "3   d       4       6\n",
      "4   e     NaN       7\n",
      "5   f     NaN       8\n"
     ]
    }
   ],
   "source": [
    "#merge\n",
    "#3 outer merge\n",
    "df1=pd.DataFrame({\n",
    "    'key':['a','b','c','d'],\n",
    "    'value':['1','2','3','4']\n",
    "})\n",
    "print(df1)\n",
    "\n",
    "df2=pd.DataFrame({\n",
    "    'key':['b','d','e','f'],\n",
    "    'value':['5','6','7','8']\n",
    "})\n",
    "print(df2)\n",
    "result=pd.merge(df1,df2, on='key',how='outer')\n",
    "print(result)"
   ]
  },
  {
   "cell_type": "code",
   "execution_count": 14,
   "id": "f5175148-6b87-47e4-83fb-b21cf5da1977",
   "metadata": {},
   "outputs": [
    {
     "name": "stdout",
     "output_type": "stream",
     "text": [
      "  key value\n",
      "0   a     1\n",
      "1   b     2\n",
      "2   c     3\n",
      "3   d     4\n",
      "  key value\n",
      "0   b     5\n",
      "1   d     6\n",
      "2   e     7\n",
      "3   f     8\n",
      "  key value_x value_y\n",
      "0   b       2       5\n",
      "1   d       4       6\n",
      "2   e     NaN       7\n",
      "3   f     NaN       8\n"
     ]
    }
   ],
   "source": [
    "#merge\n",
    "#4 right merge\n",
    "df1=pd.DataFrame({\n",
    "    'key':['a','b','c','d'],\n",
    "    'value':['1','2','3','4']\n",
    "})\n",
    "print(df1)\n",
    "\n",
    "df2=pd.DataFrame({\n",
    "    'key':['b','d','e','f'],\n",
    "    'value':['5','6','7','8']\n",
    "})\n",
    "print(df2)\n",
    "result=pd.merge(df1,df2, on='key',how='right')\n",
    "print(result)"
   ]
  },
  {
   "cell_type": "code",
   "execution_count": 15,
   "id": "974c071c-e32c-4f24-933b-1ce6c86fcffe",
   "metadata": {},
   "outputs": [
    {
     "ename": "ModuleNotFoundError",
     "evalue": "No module named 'google'",
     "output_type": "error",
     "traceback": [
      "\u001b[31m---------------------------------------------------------------------------\u001b[39m",
      "\u001b[31mModuleNotFoundError\u001b[39m                       Traceback (most recent call last)",
      "\u001b[36mCell\u001b[39m\u001b[36m \u001b[39m\u001b[32mIn[15]\u001b[39m\u001b[32m, line 2\u001b[39m\n\u001b[32m      1\u001b[39m \u001b[38;5;66;03m#dataset\u001b[39;00m\n\u001b[32m----> \u001b[39m\u001b[32m2\u001b[39m \u001b[38;5;28;01mfrom\u001b[39;00m\u001b[38;5;250m \u001b[39m\u001b[34;01mgoogle\u001b[39;00m\u001b[34;01m.\u001b[39;00m\u001b[34;01mcolab\u001b[39;00m\u001b[38;5;250m \u001b[39m\u001b[38;5;28;01mimport\u001b[39;00m drive\n\u001b[32m      3\u001b[39m drive.mount(\u001b[33m'\u001b[39m\u001b[33m/content/drive\u001b[39m\u001b[33m'\u001b[39m)\n",
      "\u001b[31mModuleNotFoundError\u001b[39m: No module named 'google'"
     ]
    }
   ],
   "source": [
    "#dataset\n",
    "from google.colab import drive\n",
    "drive.mount('/content/drive')"
   ]
  },
  {
   "cell_type": "code",
   "execution_count": null,
   "id": "f44dd350-5f72-4917-ab00-1290d740ebdc",
   "metadata": {},
   "outputs": [],
   "source": [
    "import pandas as pd\n",
    "file_path='/content/drive/My Drive/dataset/mtcars2.csv'\n",
    "cars=pd.read_csv(file_path)\n",
    "print(cars)"
   ]
  },
  {
   "cell_type": "code",
   "execution_count": null,
   "id": "168b928c-cc37-4d7e-bf94-bc9ffe8e10ab",
   "metadata": {},
   "outputs": [],
   "source": [
    "#import pandas as pd\n",
    "file_path='/content/Sample - Superstore.xls'\n",
    "data=pd.read_excel(file_path)\n",
    "print(data)"
   ]
  },
  {
   "cell_type": "code",
   "execution_count": null,
   "id": "9997e9f0-8adc-4206-94da-69209fa70ba1",
   "metadata": {},
   "outputs": [],
   "source": [
    "type(data)      #type of the datas\n"
   ]
  },
  {
   "cell_type": "code",
   "execution_count": null,
   "id": "cc806883-f121-41b7-89a3-8e4923fa9bee",
   "metadata": {},
   "outputs": [],
   "source": [
    "data.head()     #first 5 datas"
   ]
  },
  {
   "cell_type": "code",
   "execution_count": null,
   "id": "e87d1b53-3d4b-44b9-8629-316d8b1acfa0",
   "metadata": {},
   "outputs": [],
   "source": [
    "data.tail()     #last 5 datas"
   ]
  },
  {
   "cell_type": "code",
   "execution_count": null,
   "id": "7ab161b0-1960-457f-977a-7f2531db425e",
   "metadata": {},
   "outputs": [],
   "source": [
    "data.shape      #gives number of rows and columns"
   ]
  },
  {
   "cell_type": "code",
   "execution_count": null,
   "id": "4f89cdc1-66d0-4ac9-956e-32f93599092f",
   "metadata": {},
   "outputs": [],
   "source": [
    "data.info()    #print a concise summary of the columns"
   ]
  },
  {
   "cell_type": "code",
   "execution_count": null,
   "id": "ce4f066d-4e0b-4611-8219-355f2df9367f",
   "metadata": {},
   "outputs": [],
   "source": [
    "#mean =same for median , standdeviation(std),maximum\n",
    "mean_values= data.mean(numneric_only=True)\n",
    "print(mean_values)"
   ]
  },
  {
   "cell_type": "code",
   "execution_count": null,
   "id": "2f8a1eaf-922f-488f-9265-67706d7df49b",
   "metadata": {},
   "outputs": [],
   "source": [
    "#dataset\n",
    "from google.colab import drive\n",
    "drive.mount('/content/drive')"
   ]
  },
  {
   "cell_type": "code",
   "execution_count": null,
   "id": "56a5d36e-53e4-4811-93a9-29e4e5f8d1d8",
   "metadata": {},
   "outputs": [],
   "source": [
    "import pandas as pd\n",
    "file_path='/content/drive/My Drive/dataset/mtcars2.csv'\n",
    "cars=pd.read_csv(file_path)\n",
    "print(cars)"
   ]
  },
  {
   "cell_type": "code",
   "execution_count": null,
   "id": "a77669dd-fd04-406d-8658-09d16ce1a880",
   "metadata": {},
   "outputs": [],
   "source": [
    "cars.describe()  #descriptive stastiscs summary"
   ]
  },
  {
   "cell_type": "code",
   "execution_count": null,
   "id": "074f8860-2d75-4298-91d7-952640aff79d",
   "metadata": {},
   "outputs": [],
   "source": [
    "cars.count()"
   ]
  },
  {
   "cell_type": "markdown",
   "id": "adb3e678-05e1-4ed9-beeb-3fe49a9c7dcc",
   "metadata": {},
   "source": [
    "CLEANING funtions: 1.rename"
   ]
  },
  {
   "cell_type": "code",
   "execution_count": null,
   "id": "ed989263-c569-4bbb-9d16-634d7fbae6de",
   "metadata": {},
   "outputs": [],
   "source": [
    "#RENAME COLUMN\n",
    "cars=cars.rename(columns={'wt':'weight'})\n",
    "print(cars)"
   ]
  },
  {
   "cell_type": "code",
   "execution_count": null,
   "id": "8ffd5d10-d317-4b5a-8a05-38a1b8b90a0b",
   "metadata": {},
   "outputs": [],
   "source": [
    "#indexing or slicing\n",
    "cars.iloc[1:11,5:]"
   ]
  },
  {
   "cell_type": "code",
   "execution_count": 1,
   "id": "6841644c-af2b-4ca5-ba32-206ba4ddc575",
   "metadata": {},
   "outputs": [
    {
     "ename": "NameError",
     "evalue": "name 'cars' is not defined",
     "output_type": "error",
     "traceback": [
      "\u001b[31m---------------------------------------------------------------------------\u001b[39m",
      "\u001b[31mNameError\u001b[39m                                 Traceback (most recent call last)",
      "\u001b[36mCell\u001b[39m\u001b[36m \u001b[39m\u001b[32mIn[1]\u001b[39m\u001b[32m, line 3\u001b[39m\n\u001b[32m      1\u001b[39m \u001b[38;5;66;03m#sorting\u001b[39;00m\n\u001b[32m      2\u001b[39m \u001b[38;5;66;03m#cyl in descending order\u001b[39;00m\n\u001b[32m----> \u001b[39m\u001b[32m3\u001b[39m \u001b[43mcars\u001b[49m.sort_values(by=\u001b[33m'\u001b[39m\u001b[33mcyl\u001b[39m\u001b[33m'\u001b[39m, ascending=\u001b[38;5;28;01mFalse\u001b[39;00m)\n",
      "\u001b[31mNameError\u001b[39m: name 'cars' is not defined"
     ]
    }
   ],
   "source": [
    "#sorting\n",
    "#cyl in descending order\n",
    "cars.sort_values(by='cyl', ascending=False)"
   ]
  },
  {
   "cell_type": "code",
   "execution_count": null,
   "id": "85be2b89-aaf6-45f1-ae08-a491ce59d4ff",
   "metadata": {},
   "outputs": [],
   "source": [
    "#sorting\n",
    "#cyl in ascending order"
   ]
  },
  {
   "cell_type": "code",
   "execution_count": null,
   "id": "78dfdd2a-d3cf-4d12-b8f4-6d9c0a4eee02",
   "metadata": {},
   "outputs": [],
   "source": [
    "cars.sort_values(by='cyl')"
   ]
  },
  {
   "cell_type": "code",
   "execution_count": null,
   "id": "9a48e945-a15e-4260-8b8f-253db3dc0024",
   "metadata": {},
   "outputs": [],
   "source": [
    "#sorting\n",
    "#cyl in descending order\n",
    "cars.sort_values(by='mpg', ascending=False)\n",
    "cars.head()"
   ]
  },
  {
   "cell_type": "code",
   "execution_count": null,
   "id": "74a52a83-3fdd-477c-aeea-22607c2339b3",
   "metadata": {},
   "outputs": [],
   "source": [
    "#filtering\n",
    "cars['cyl'] >=6"
   ]
  },
  {
   "cell_type": "code",
   "execution_count": 2,
   "id": "a93596ca-c871-4fb4-abd3-0b47c74c7d2c",
   "metadata": {},
   "outputs": [
    {
     "ename": "NameError",
     "evalue": "name 'cars' is not defined",
     "output_type": "error",
     "traceback": [
      "\u001b[31m---------------------------------------------------------------------------\u001b[39m",
      "\u001b[31mNameError\u001b[39m                                 Traceback (most recent call last)",
      "\u001b[36mCell\u001b[39m\u001b[36m \u001b[39m\u001b[32mIn[2]\u001b[39m\u001b[32m, line 1\u001b[39m\n\u001b[32m----> \u001b[39m\u001b[32m1\u001b[39m filter1=\u001b[43mcars\u001b[49m[\u001b[33m'\u001b[39m\u001b[33mcyl\u001b[39m\u001b[33m'\u001b[39m] > \u001b[32m6\u001b[39m\n\u001b[32m      2\u001b[39m filter_new=cars[filter1]\n\u001b[32m      3\u001b[39m filter_new\n",
      "\u001b[31mNameError\u001b[39m: name 'cars' is not defined"
     ]
    }
   ],
   "source": [
    "filter1=cars['cyl'] > 6\n",
    "filter_new=cars[filter1]\n",
    "filter_new"
   ]
  },
  {
   "cell_type": "code",
   "execution_count": null,
   "id": "287f490f-0903-4c2e-8379-9b22076fa333",
   "metadata": {},
   "outputs": [],
   "source": [
    "cars[(cars['cyl'] >6) & (cars['hp'] > 300)]"
   ]
  },
  {
   "cell_type": "code",
   "execution_count": 16,
   "id": "3c437d9a-27ea-4cdf-9b26-8b316d3f1649",
   "metadata": {},
   "outputs": [
    {
     "ename": "NameError",
     "evalue": "name 'cars' is not defined",
     "output_type": "error",
     "traceback": [
      "\u001b[31m---------------------------------------------------------------------------\u001b[39m",
      "\u001b[31mNameError\u001b[39m                                 Traceback (most recent call last)",
      "\u001b[36mCell\u001b[39m\u001b[36m \u001b[39m\u001b[32mIn[16]\u001b[39m\u001b[32m, line 1\u001b[39m\n\u001b[32m----> \u001b[39m\u001b[32m1\u001b[39m \u001b[43mcars\u001b[49m[(cars[\u001b[33m'\u001b[39m\u001b[33mcyl\u001b[39m\u001b[33m'\u001b[39m] >\u001b[32m6\u001b[39m) & (cars[\u001b[33m'\u001b[39m\u001b[33mmpg\u001b[39m\u001b[33m'\u001b[39m] > \u001b[32m20\u001b[39m)] \n",
      "\u001b[31mNameError\u001b[39m: name 'cars' is not defined"
     ]
    }
   ],
   "source": [
    "cars[(cars['cyl'] >6) & (cars['mpg'] > 20)] "
   ]
  },
  {
   "cell_type": "code",
   "execution_count": null,
   "id": "fd55c162-7e60-4d8a-b5cd-afc61db4da71",
   "metadata": {},
   "outputs": [],
   "source": []
  },
  {
   "cell_type": "code",
   "execution_count": null,
   "id": "8b432073-97da-44b3-a675-3ab585ee7b85",
   "metadata": {},
   "outputs": [],
   "source": []
  },
  {
   "cell_type": "code",
   "execution_count": null,
   "id": "b9f8fbe4-e363-448d-bb51-428801a6e75f",
   "metadata": {},
   "outputs": [],
   "source": []
  },
  {
   "cell_type": "code",
   "execution_count": null,
   "id": "47df3d92-4d9f-4ec5-9aa9-983fc7180954",
   "metadata": {},
   "outputs": [],
   "source": []
  },
  {
   "cell_type": "code",
   "execution_count": null,
   "id": "cd2df13f-ffaa-40f5-b419-f51616c21105",
   "metadata": {},
   "outputs": [],
   "source": []
  },
  {
   "cell_type": "code",
   "execution_count": null,
   "id": "4b9a3dcc-685a-4ec6-b18e-33292d87504e",
   "metadata": {},
   "outputs": [],
   "source": []
  },
  {
   "cell_type": "code",
   "execution_count": null,
   "id": "2595efb4-477a-4621-a140-bbb72a75d71d",
   "metadata": {},
   "outputs": [],
   "source": []
  }
 ],
 "metadata": {
  "kernelspec": {
   "display_name": "Python 3 (ipykernel)",
   "language": "python",
   "name": "python3"
  },
  "language_info": {
   "codemirror_mode": {
    "name": "ipython",
    "version": 3
   },
   "file_extension": ".py",
   "mimetype": "text/x-python",
   "name": "python",
   "nbconvert_exporter": "python",
   "pygments_lexer": "ipython3",
   "version": "3.12.6"
  }
 },
 "nbformat": 4,
 "nbformat_minor": 5
}
