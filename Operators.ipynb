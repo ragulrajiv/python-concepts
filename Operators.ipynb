{
 "cells": [
  {
   "cell_type": "markdown",
   "id": "eabd82ea-5f79-4829-b72b-ba78e101b29b",
   "metadata": {},
   "source": [
    "### Operators\n",
    "operators are used to perform operations on variables and values"
   ]
  },
  {
   "cell_type": "code",
   "execution_count": 5,
   "id": "8ce050d3-002d-4f5e-ae25-2aebd67984a9",
   "metadata": {},
   "outputs": [
    {
     "name": "stdout",
     "output_type": "stream",
     "text": [
      "15 , -5 , 50 , 0.5\n"
     ]
    }
   ],
   "source": [
    "x=5\n",
    "y=10\n",
    "print(x+y,\",\",x-y,\",\",x*y,\",\",x/y)"
   ]
  },
  {
   "cell_type": "markdown",
   "id": "916392bd-0ccf-4312-bda2-e3617d59eef7",
   "metadata": {},
   "source": [
    "#### Python divides the operators in the following groups:\n",
    "1. Arithmetic operators\n",
    "2. Assignment operators\n",
    "3. Comparison operators\n",
    "4. Logical operators\n",
    "5. Identity operators\n",
    "6. Membership operators\n",
    "7. Bitwise operators"
   ]
  },
  {
   "cell_type": "markdown",
   "id": "77e1b1c5-d964-48dc-b5ed-c5caa0f8e587",
   "metadata": {},
   "source": [
    "#### 1.Arithmetic operators"
   ]
  },
  {
   "cell_type": "code",
   "execution_count": 5,
   "id": "114777d8-adaa-48af-8072-3410bb079eaa",
   "metadata": {},
   "outputs": [
    {
     "name": "stdout",
     "output_type": "stream",
     "text": [
      "addition: 6+5=11\n",
      "11\n"
     ]
    }
   ],
   "source": [
    "#addition\n",
    "x=6\n",
    "y=5\n",
    "addition =x+y\n",
    "print(f\"addition: {x}+{y}={addition}\")\n",
    "print(addition)"
   ]
  },
  {
   "cell_type": "code",
   "execution_count": 5,
   "id": "462753d3-1060-4d14-8d49-777405b1634e",
   "metadata": {},
   "outputs": [
    {
     "name": "stdout",
     "output_type": "stream",
     "text": [
      "subtraction:6-5=1\n"
     ]
    }
   ],
   "source": [
    "#subtraction\n",
    "subtraction=x-y\n",
    "print(f\"subtraction:{x}-{y}={subtraction}\")"
   ]
  },
  {
   "cell_type": "code",
   "execution_count": 7,
   "id": "fec79ddb-f17b-4276-a39b-36ae12b154b0",
   "metadata": {},
   "outputs": [
    {
     "name": "stdout",
     "output_type": "stream",
     "text": [
      "multiplication:6*5=30\n"
     ]
    }
   ],
   "source": [
    "#multiplication\n",
    "multiplication=x*y\n",
    "print(f\"multiplication:{x}*{y}={multiplication}\")"
   ]
  },
  {
   "cell_type": "code",
   "execution_count": 9,
   "id": "d3af85e2-7879-40c1-9381-6899789a6ec3",
   "metadata": {},
   "outputs": [
    {
     "name": "stdout",
     "output_type": "stream",
     "text": [
      "3.75\n",
      "division:15/4=3.75\n"
     ]
    }
   ],
   "source": [
    "#division\n",
    "x=15\n",
    "y=4\n",
    "division=x/y\n",
    "print(division)\n",
    "print(f\"division:{x}/{y}={division}\")"
   ]
  },
  {
   "cell_type": "code",
   "execution_count": 11,
   "id": "1fab1205-81f8-4730-9a9e-01bf2955e9f0",
   "metadata": {},
   "outputs": [
    {
     "name": "stdout",
     "output_type": "stream",
     "text": [
      "3\n",
      "modulas:15%4=3\n"
     ]
    }
   ],
   "source": [
    "#modulas remainder value\n",
    "modulas=x%y\n",
    "print(modulas)\n",
    "print(f\"modulas:{x}%{y}={modulas}\")"
   ]
  },
  {
   "cell_type": "code",
   "execution_count": 18,
   "id": "6f35c362-5c9a-4e69-8062-74c0b99637b3",
   "metadata": {},
   "outputs": [
    {
     "name": "stdout",
     "output_type": "stream",
     "text": [
      "81\n"
     ]
    }
   ],
   "source": [
    "#exponentation :first value as base and second value as power ex:3*3*3*3=81\n",
    "x=3\n",
    "y=4\n",
    "expn=x**y\n",
    "print(expn)"
   ]
  },
  {
   "cell_type": "code",
   "execution_count": 22,
   "id": "2aeb4ec3-7d64-4a8f-9e6c-66690cdab28f",
   "metadata": {},
   "outputs": [
    {
     "name": "stdout",
     "output_type": "stream",
     "text": [
      "floor division:5//3=1\n",
      "1.6666666666666667\n"
     ]
    }
   ],
   "source": [
    "#floor division (//):divides the first number by the second and returns the closest integer less than or equal to the result\n",
    "x=5\n",
    "y=3\n",
    "division=x/y\n",
    "floor_Division=x//y\n",
    "print(f\"floor division:{x}//{y}={floor_Division}\")\n",
    "print(division)"
   ]
  },
  {
   "cell_type": "markdown",
   "id": "88f9d559-d0f8-40f9-b9f4-987e9fbb1b29",
   "metadata": {},
   "source": [
    "### Assignment operators\n",
    "- Assignmet operator are used to assign values to variables"
   ]
  },
  {
   "cell_type": "markdown",
   "id": "c2faa623-bfb2-4ae6-a265-7ee7111b0604",
   "metadata": {},
   "source": [
    "operator  Example same as\n",
    "x         x=5     x=5\n",
    "+=        x+=3    x=x+3  (x=5+3)\n",
    "-=,*=,/=,%=,//="
   ]
  },
  {
   "cell_type": "code",
   "execution_count": 62,
   "id": "cc3924aa-db34-442a-b59f-4cb364341b55",
   "metadata": {},
   "outputs": [
    {
     "name": "stdout",
     "output_type": "stream",
     "text": [
      "8\n"
     ]
    }
   ],
   "source": [
    "#assingment operators\n",
    "x=5\n",
    "x+=3 #x=x+3 # 5+3# addition\n",
    "print(x)"
   ]
  },
  {
   "cell_type": "code",
   "execution_count": 64,
   "id": "faa57af9-88e0-4bb0-a79f-439de3f4d4ba",
   "metadata": {},
   "outputs": [
    {
     "name": "stdout",
     "output_type": "stream",
     "text": [
      "5\n"
     ]
    }
   ],
   "source": [
    "x-=3 #x=x-3 # 8-3 # subtraction\n",
    "print(x)"
   ]
  },
  {
   "cell_type": "code",
   "execution_count": 66,
   "id": "1b4c59aa-88cb-4755-b65d-0c389ef8adf7",
   "metadata": {},
   "outputs": [
    {
     "name": "stdout",
     "output_type": "stream",
     "text": [
      "15\n"
     ]
    }
   ],
   "source": [
    "x*=3 #Multiplication\n",
    "print(x)"
   ]
  },
  {
   "cell_type": "code",
   "execution_count": 47,
   "id": "43bd1f03-f367-46ba-adea-0b80e9319b03",
   "metadata": {},
   "outputs": [
    {
     "name": "stdout",
     "output_type": "stream",
     "text": [
      "5.0\n"
     ]
    }
   ],
   "source": [
    "x/=3 #Division\n",
    "print(x)"
   ]
  },
  {
   "cell_type": "code",
   "execution_count": 49,
   "id": "bc7f7f4e-1c6e-45ff-82fb-22c53e0aea21",
   "metadata": {},
   "outputs": [
    {
     "name": "stdout",
     "output_type": "stream",
     "text": [
      "2.0\n"
     ]
    }
   ],
   "source": [
    "x%=3 #modulas\n",
    "print(x)"
   ]
  },
  {
   "cell_type": "code",
   "execution_count": 68,
   "id": "0f645a21-cc31-4f2b-b3dc-d28053b6a8b0",
   "metadata": {},
   "outputs": [
    {
     "name": "stdout",
     "output_type": "stream",
     "text": [
      "3\n"
     ]
    }
   ],
   "source": [
    "y=16 #Floor division\n",
    "y//=5\n",
    "print(y)"
   ]
  },
  {
   "cell_type": "markdown",
   "id": "46323f66-fc17-4194-a74e-16bf9ed8e92f",
   "metadata": {},
   "source": [
    "### comparison operators"
   ]
  },
  {
   "cell_type": "code",
   "execution_count": 8,
   "id": "2971341b-d712-444a-9895-8807ca3268bf",
   "metadata": {},
   "outputs": [
    {
     "name": "stdout",
     "output_type": "stream",
     "text": [
      "False\n",
      "True\n",
      "False\n",
      "False\n",
      "True\n",
      "True\n"
     ]
    }
   ],
   "source": [
    "# ==,!=,>,>=,<,<=\n",
    "x=15\n",
    "y=20\n",
    "print(x==y)\n",
    "print(x!=y)\n",
    "print(x>y)\n",
    "print(x>=y)\n",
    "print(x<y)\n",
    "print(x<=y)"
   ]
  },
  {
   "cell_type": "markdown",
   "id": "ce4b494c-44eb-415f-bb0d-a9fc794f9f41",
   "metadata": {},
   "source": [
    "### Logical operators"
   ]
  },
  {
   "cell_type": "code",
   "execution_count": 13,
   "id": "5e9f451c-a271-4ea9-ab3c-3c9195f1ecb2",
   "metadata": {},
   "outputs": [
    {
     "name": "stdout",
     "output_type": "stream",
     "text": [
      "True\n",
      "False\n",
      "True\n",
      "True\n",
      "False\n",
      "True\n"
     ]
    }
   ],
   "source": [
    "# and ,or and not\n",
    "a=5\n",
    "b=10\n",
    "print(a>2 and b<15)\n",
    "print(a>2 and b<9)\n",
    "\n",
    "print(a>2 or b<15)\n",
    "print(a>2 or b<9)\n",
    "\n",
    "print(not (a>2))\n",
    "print(not (a>6))"
   ]
  },
  {
   "cell_type": "markdown",
   "id": "befc4998-7f91-446e-a830-08b4a347d9d7",
   "metadata": {},
   "source": [
    "### Identity operators\n",
    "These are used to check if two variables refer to the same object in memory."
   ]
  },
  {
   "cell_type": "code",
   "execution_count": 18,
   "id": "2e1d4fcb-0541-4058-8a5e-a4bb53e0f132",
   "metadata": {},
   "outputs": [
    {
     "name": "stdout",
     "output_type": "stream",
     "text": [
      "True\n",
      "False\n",
      "False\n",
      "True\n"
     ]
    }
   ],
   "source": [
    "# is,is not\n",
    "a=[1,2,3] #object memory location 1\n",
    "b=a       # 1\n",
    "c=[1,2,3] #object memory location 2\n",
    "d=c       # 2\n",
    "print(a is b) #true\n",
    "print(a is c) #false\n",
    "print(c is not d) #false\n",
    "print(b is not d) #true"
   ]
  },
  {
   "cell_type": "code",
   "execution_count": 24,
   "id": "ee150d60-d496-42bc-9865-f206668d2a5a",
   "metadata": {},
   "outputs": [
    {
     "name": "stdout",
     "output_type": "stream",
     "text": [
      "True\n",
      "False\n",
      "False\n"
     ]
    }
   ],
   "source": [
    "#cached range in python (-5 to 256)\n",
    "x=10 #1\n",
    "y=10 #\n",
    "z=10 #1\n",
    "b=157 #2\n",
    "h=157 #2\n",
    "u=258 #3\n",
    "i=258 #4\n",
    "print(b is h)\n",
    "print(i is u)\n",
    "print(x is not z)"
   ]
  },
  {
   "cell_type": "markdown",
   "id": "714fd8eb-3d8f-4557-8366-b3ed670dd4ec",
   "metadata": {},
   "source": [
    "### Membership operators\n",
    "These are used to check if a value is present in a sequence (like list, tuple, string, set, etc.).\n",
    "\n"
   ]
  },
  {
   "cell_type": "code",
   "execution_count": 31,
   "id": "475f3e3a-b90c-45c1-bf0d-fcdfa3d46bdd",
   "metadata": {},
   "outputs": [
    {
     "name": "stdout",
     "output_type": "stream",
     "text": [
      "True\n",
      "False\n",
      "False\n"
     ]
    }
   ],
   "source": [
    "#in ,not in\n",
    "fruits=['apple','banana','cherry']\n",
    "print('banana' in fruits) #true\n",
    "print('grape' in fruits) # false\n",
    "print('cherry' not in fruits) # false"
   ]
  },
  {
   "cell_type": "markdown",
   "id": "7a86e77a-1d3e-4732-bc57-a304f7b41d41",
   "metadata": {},
   "source": [
    "### convert binary to numbers"
   ]
  },
  {
   "cell_type": "code",
   "execution_count": 89,
   "id": "2804baa1-6a62-40c7-9e46-d96893fc269f",
   "metadata": {},
   "outputs": [
    {
     "name": "stdout",
     "output_type": "stream",
     "text": [
      "41\n"
     ]
    }
   ],
   "source": [
    "binary_num=\"101001\"\n",
    "print(int(binary_num,2))"
   ]
  },
  {
   "cell_type": "markdown",
   "id": "681de66b-979f-4019-9a72-7a2e8c9942c5",
   "metadata": {},
   "source": [
    "### convert number to binary"
   ]
  },
  {
   "cell_type": "code",
   "execution_count": 92,
   "id": "76cc018c-0ea1-4d25-ac7d-bf5eb902decd",
   "metadata": {},
   "outputs": [
    {
     "data": {
      "text/plain": [
       "'0b101001'"
      ]
     },
     "execution_count": 92,
     "metadata": {},
     "output_type": "execute_result"
    }
   ],
   "source": [
    "bin(41)"
   ]
  },
  {
   "cell_type": "code",
   "execution_count": 94,
   "id": "6a098261-944d-49fc-8266-4b986ee98449",
   "metadata": {},
   "outputs": [
    {
     "name": "stdout",
     "output_type": "stream",
     "text": [
      "0b101001\n"
     ]
    }
   ],
   "source": [
    "x=41\n",
    "print(bin(x))"
   ]
  },
  {
   "cell_type": "markdown",
   "id": "0e1d2c78-1d71-43b7-b126-86d37fc390d8",
   "metadata": {},
   "source": [
    "### Bitwise operators\n",
    "1. AND(&),OR(|),XOR(^),NOT(~),Left shift(>>),Right Shift(<<)"
   ]
  },
  {
   "cell_type": "code",
   "execution_count": 107,
   "id": "e0859ed4-842c-44f9-b649-af04e457caa4",
   "metadata": {},
   "outputs": [
    {
     "name": "stdout",
     "output_type": "stream",
     "text": [
      "0b1100\n",
      "0b1010\n",
      "0b1000\n",
      "8\n",
      "8\n"
     ]
    }
   ],
   "source": [
    "a=12\n",
    "print(bin(a))\n",
    "b=10\n",
    "print(bin(b))\n",
    "print(bin(a&b))\n",
    "bi=\"1000\"\n",
    "print(int(bi,2))\n",
    "print(a&b)\n"
   ]
  },
  {
   "cell_type": "code",
   "execution_count": 110,
   "id": "b45e6720-f4ee-4b0f-8431-576e0e45916a",
   "metadata": {},
   "outputs": [
    {
     "name": "stdout",
     "output_type": "stream",
     "text": [
      "1\n"
     ]
    },
    {
     "data": {
      "text/plain": [
       "'0b1'"
      ]
     },
     "execution_count": 110,
     "metadata": {},
     "output_type": "execute_result"
    }
   ],
   "source": [
    "x=5\n",
    "x&=3\n",
    "print(x)\n",
    "bin(x)"
   ]
  },
  {
   "cell_type": "code",
   "execution_count": 116,
   "id": "c2ba789b-3514-41c9-9a4e-f6ef8602e6fc",
   "metadata": {},
   "outputs": [
    {
     "name": "stdout",
     "output_type": "stream",
     "text": [
      "14\n",
      "6\n",
      "-11\n",
      "0\n",
      "12288\n"
     ]
    }
   ],
   "source": [
    "print(a|b)\n",
    "print(a^b)\n",
    "print(~b)\n",
    "print(a>>b)\n",
    "print(a<<b)"
   ]
  },
  {
   "cell_type": "markdown",
   "id": "ba1eb59b-82a4-44bc-8fe5-13b9d2b314a0",
   "metadata": {},
   "source": [
    "### Math Module:"
   ]
  },
  {
   "cell_type": "code",
   "execution_count": 17,
   "id": "e634fd71-9fda-44b2-aaa6-580be1b0610a",
   "metadata": {},
   "outputs": [],
   "source": [
    "import math"
   ]
  },
  {
   "cell_type": "code",
   "execution_count": 19,
   "id": "0426e7a1-8754-4d3f-a3e1-15b38589e9b7",
   "metadata": {},
   "outputs": [
    {
     "data": {
      "text/plain": [
       "4"
      ]
     },
     "execution_count": 19,
     "metadata": {},
     "output_type": "execute_result"
    }
   ],
   "source": [
    "#greater value return\n",
    "math.ceil(3.6)"
   ]
  },
  {
   "cell_type": "code",
   "execution_count": 23,
   "id": "3b4b8110-b8e1-4eaa-9dd9-cdabd3946f14",
   "metadata": {},
   "outputs": [
    {
     "data": {
      "text/plain": [
       "2"
      ]
     },
     "execution_count": 23,
     "metadata": {},
     "output_type": "execute_result"
    }
   ],
   "source": [
    "# lesser value return\n",
    "math.floor(2.9)"
   ]
  },
  {
   "cell_type": "code",
   "execution_count": 25,
   "id": "a7481fb9-2bb0-4804-bde4-1ce2ce308d75",
   "metadata": {},
   "outputs": [
    {
     "data": {
      "text/plain": [
       "4.898979485566356"
      ]
     },
     "execution_count": 25,
     "metadata": {},
     "output_type": "execute_result"
    }
   ],
   "source": [
    "math.sqrt(24)"
   ]
  },
  {
   "cell_type": "code",
   "execution_count": 29,
   "id": "1e260e19-316d-4713-b259-76225149f13f",
   "metadata": {},
   "outputs": [
    {
     "data": {
      "text/plain": [
       "9.0"
      ]
     },
     "execution_count": 29,
     "metadata": {},
     "output_type": "execute_result"
    }
   ],
   "source": [
    "math.pow(3,2)"
   ]
  },
  {
   "cell_type": "code",
   "execution_count": 31,
   "id": "9610eeab-fe06-4d76-93bc-fde7d720e4f5",
   "metadata": {},
   "outputs": [
    {
     "data": {
      "text/plain": [
       "3.141592653589793"
      ]
     },
     "execution_count": 31,
     "metadata": {},
     "output_type": "execute_result"
    }
   ],
   "source": [
    "math.pi"
   ]
  },
  {
   "cell_type": "code",
   "execution_count": 33,
   "id": "65ac1ffd-f24c-4feb-979e-a497b3bd703c",
   "metadata": {},
   "outputs": [
    {
     "data": {
      "text/plain": [
       "2.718281828459045"
      ]
     },
     "execution_count": 33,
     "metadata": {},
     "output_type": "execute_result"
    }
   ],
   "source": [
    "math.e"
   ]
  },
  {
   "cell_type": "code",
   "execution_count": 35,
   "id": "c6492580-746a-44a4-921d-2d3d3c4b56f5",
   "metadata": {},
   "outputs": [
    {
     "data": {
      "text/plain": [
       "6.283185307179586"
      ]
     },
     "execution_count": 35,
     "metadata": {},
     "output_type": "execute_result"
    }
   ],
   "source": [
    "math.tau"
   ]
  },
  {
   "cell_type": "code",
   "execution_count": 37,
   "id": "fc4a0293-a359-49e3-b370-dd6f7c009b85",
   "metadata": {},
   "outputs": [
    {
     "data": {
      "text/plain": [
       "29"
      ]
     },
     "execution_count": 37,
     "metadata": {},
     "output_type": "execute_result"
    }
   ],
   "source": [
    "## remove decimal values\n",
    "math.trunc(29.9)"
   ]
  },
  {
   "cell_type": "code",
   "execution_count": 39,
   "id": "8f8747fa-ee81-467d-98c1-054548c7a2e1",
   "metadata": {},
   "outputs": [
    {
     "data": {
      "text/plain": [
       "27.0"
      ]
     },
     "execution_count": 39,
     "metadata": {},
     "output_type": "execute_result"
    }
   ],
   "source": [
    "# convert negative to positive values\n",
    "math.fabs(-27)"
   ]
  },
  {
   "cell_type": "code",
   "execution_count": 41,
   "id": "6485cd0b-58ed-4ec8-92b4-2ebde0c686b5",
   "metadata": {},
   "outputs": [
    {
     "data": {
      "text/plain": [
       "7.38905609893065"
      ]
     },
     "execution_count": 41,
     "metadata": {},
     "output_type": "execute_result"
    }
   ],
   "source": [
    "math.exp(2) #e^x\n"
   ]
  },
  {
   "cell_type": "code",
   "execution_count": 43,
   "id": "a5248125-493f-4e85-a9e5-fcd707e3773c",
   "metadata": {},
   "outputs": [
    {
     "data": {
      "text/plain": [
       "3.0"
      ]
     },
     "execution_count": 43,
     "metadata": {},
     "output_type": "execute_result"
    }
   ],
   "source": [
    "#math.log(x,base)\n",
    "math.log(8,2)"
   ]
  },
  {
   "cell_type": "code",
   "execution_count": 45,
   "id": "c652ae73-abbd-4d8c-a6d9-a0af8e88d0d2",
   "metadata": {},
   "outputs": [
    {
     "data": {
      "text/plain": [
       "120"
      ]
     },
     "execution_count": 45,
     "metadata": {},
     "output_type": "execute_result"
    }
   ],
   "source": [
    "math.factorial(5) # 5*4*3*2*1"
   ]
  },
  {
   "cell_type": "code",
   "execution_count": 47,
   "id": "08f83d0a-9ed2-4c33-98a9-92fbf25d9aa8",
   "metadata": {},
   "outputs": [
    {
     "data": {
      "text/plain": [
       "40"
      ]
     },
     "execution_count": 47,
     "metadata": {},
     "output_type": "execute_result"
    }
   ],
   "source": [
    "math.gcd(40,80) #greatest common divisor"
   ]
  }
 ],
 "metadata": {
  "kernelspec": {
   "display_name": "Python [conda env:base] *",
   "language": "python",
   "name": "conda-base-py"
  },
  "language_info": {
   "codemirror_mode": {
    "name": "ipython",
    "version": 3
   },
   "file_extension": ".py",
   "mimetype": "text/x-python",
   "name": "python",
   "nbconvert_exporter": "python",
   "pygments_lexer": "ipython3",
   "version": "3.12.7"
  }
 },
 "nbformat": 4,
 "nbformat_minor": 5
}
