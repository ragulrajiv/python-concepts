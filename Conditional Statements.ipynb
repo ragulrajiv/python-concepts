{
 "cells": [
  {
   "cell_type": "raw",
   "id": "3b0ac12c-0d2d-4e70-9104-0c6533e1b7de",
   "metadata": {},
   "source": [
    "Conditional statements\n",
    "three types of conditional statements\n",
    "\n",
    "If\n",
    "If else\n",
    "If elif"
   ]
  },
  {
   "cell_type": "code",
   "execution_count": 2,
   "id": "e1c940da-386d-46dc-9936-c9e5afe62e21",
   "metadata": {},
   "outputs": [
    {
     "name": "stdout",
     "output_type": "stream",
     "text": [
      "Bring 1kg of tomatoes\n"
     ]
    }
   ],
   "source": [
    "#if condition # Executes a block of code only if the condition is True.\n",
    "Tomato=15\n",
    "if Tomato <=20:\n",
    "    print(\"Bring 1kg of tomatoes\")"
   ]
  },
  {
   "cell_type": "code",
   "execution_count": 3,
   "id": "9061bfb1-ef13-4629-8083-ed7a0b3ce555",
   "metadata": {},
   "outputs": [
    {
     "name": "stdout",
     "output_type": "stream",
     "text": [
      "b is greater than a\n"
     ]
    }
   ],
   "source": [
    "a=33\n",
    "b=56\n",
    "if b>a:\n",
    "    print(\"b is greater than a\")"
   ]
  },
  {
   "cell_type": "code",
   "execution_count": 4,
   "id": "9201e477-5c76-4c5f-9f33-5887a025acea",
   "metadata": {},
   "outputs": [
    {
     "name": "stdout",
     "output_type": "stream",
     "text": [
      "You are eligible to Vote\n"
     ]
    }
   ],
   "source": [
    "#if condition\n",
    "age=18\n",
    "if age>=18:\n",
    "    print(\"You are eligible to Vote\")"
   ]
  },
  {
   "cell_type": "code",
   "execution_count": 5,
   "id": "76cba7c6-37f2-4938-a5b4-8b2076b1d1fb",
   "metadata": {},
   "outputs": [
    {
     "name": "stdout",
     "output_type": "stream",
     "text": [
      "Data Science\n"
     ]
    }
   ],
   "source": [
    "x=9\n",
    "if x<10:\n",
    "    print(\"Data Science\")"
   ]
  },
  {
   "cell_type": "code",
   "execution_count": 6,
   "id": "295f9f05-abce-4791-b2f4-2fda03c7cb28",
   "metadata": {},
   "outputs": [
    {
     "name": "stdout",
     "output_type": "stream",
     "text": [
      "Data Science\n"
     ]
    }
   ],
   "source": [
    "if True:\n",
    "    print(\"Data Science\")"
   ]
  },
  {
   "cell_type": "code",
   "execution_count": 7,
   "id": "3d5ca24c-48a1-467c-b01f-c06c08d9682c",
   "metadata": {},
   "outputs": [
    {
     "name": "stdout",
     "output_type": "stream",
     "text": [
      "Data Analyst\n"
     ]
    }
   ],
   "source": [
    "if 1:\n",
    "    print(\"Data Analyst\")"
   ]
  },
  {
   "cell_type": "code",
   "execution_count": 8,
   "id": "eb17401b-f8a8-49a7-a516-0b546a18c0ee",
   "metadata": {},
   "outputs": [
    {
     "name": "stdout",
     "output_type": "stream",
     "text": [
      "Data\n"
     ]
    }
   ],
   "source": [
    "x=10\n",
    "if x%2==0:\n",
    "    print(\"Data\")"
   ]
  },
  {
   "cell_type": "code",
   "execution_count": 9,
   "id": "768ec964-ac78-4744-9a50-39af61eb60a7",
   "metadata": {},
   "outputs": [
    {
     "name": "stdout",
     "output_type": "stream",
     "text": [
      "Data\n"
     ]
    }
   ],
   "source": [
    "x=11 # = Used to assign a value to a variable.== Used to compare two values.\n",
    "if x//2==5:\n",
    "    print(\"Data\")"
   ]
  },
  {
   "cell_type": "code",
   "execution_count": 10,
   "id": "b675645d-410d-4463-83c0-e8ac28d3c99e",
   "metadata": {},
   "outputs": [
    {
     "name": "stdin",
     "output_type": "stream",
     "text": [
      " 2\n"
     ]
    },
    {
     "name": "stdout",
     "output_type": "stream",
     "text": [
      "Data Science\n"
     ]
    }
   ],
   "source": [
    "x=int(input())\n",
    "if ((x%2==0) and (x<15)):\n",
    "    print(\"Data Science\")"
   ]
  },
  {
   "cell_type": "code",
   "execution_count": 11,
   "id": "f5eb7799-2b46-4720-97c5-05297abdf358",
   "metadata": {},
   "outputs": [
    {
     "name": "stdin",
     "output_type": "stream",
     "text": [
      " 30\n"
     ]
    },
    {
     "name": "stdout",
     "output_type": "stream",
     "text": [
      "You are eligible to vote\n"
     ]
    }
   ],
   "source": [
    "#if else # Executes one block if the condition is True, otherwise executes another block.\n",
    "age=int(input())\n",
    "if age>=18:\n",
    "    print(\"You are eligible to vote\")\n",
    "else:\n",
    "    print(\"You are not eligible to vote\")"
   ]
  },
  {
   "cell_type": "code",
   "execution_count": 12,
   "id": "37acf868-112f-4117-97d3-d107c853ce84",
   "metadata": {},
   "outputs": [
    {
     "name": "stdout",
     "output_type": "stream",
     "text": [
      "Analyst\n"
     ]
    }
   ],
   "source": [
    "x=\"Data Analyst\"\n",
    "if \"Dan\" in x:\n",
    "    print(\"Data\")\n",
    "else:\n",
    "    print(\"Analyst\")"
   ]
  },
  {
   "cell_type": "code",
   "execution_count": 13,
   "id": "e37528e8-92e2-49b2-a064-3fa676c8bebf",
   "metadata": {},
   "outputs": [
    {
     "name": "stdin",
     "output_type": "stream",
     "text": [
      " 12\n"
     ]
    },
    {
     "name": "stdout",
     "output_type": "stream",
     "text": [
      "You Not allowed\n"
     ]
    }
   ],
   "source": [
    "age=int(input())\n",
    "has_permission=True\n",
    "if age >=18:\n",
    "    if has_permission:\n",
    "        print(\"Allowed\")\n",
    "    else:\n",
    "        print(\"Not Allowed\")\n",
    "else:\n",
    "    if age>=13:\n",
    "        print(\"Allowed with Guardian\")\n",
    "    else:\n",
    "        print(\"You Not allowed\")"
   ]
  },
  {
   "cell_type": "code",
   "execution_count": 14,
   "id": "a3794dd1-a4b7-4fac-93b3-4c026cd16710",
   "metadata": {},
   "outputs": [
    {
     "name": "stdin",
     "output_type": "stream",
     "text": [
      " 55\n"
     ]
    },
    {
     "name": "stdout",
     "output_type": "stream",
     "text": [
      "Grade B\n"
     ]
    }
   ],
   "source": [
    "# if elif #Checks multiple conditions and executes the first True block.\n",
    "marks=int(input())\n",
    "if marks<35:\n",
    "    print(\"Fail\")\n",
    "elif marks >=35 and marks <50:\n",
    "    print(\"Grade C\")\n",
    "elif marks >=50 and marks <75:\n",
    "    print(\"Grade B\")\n",
    "elif marks >=75 and marks <90:\n",
    "    print(\"Grade A\")\n",
    "else:\n",
    "    print(\"Grade A+\")"
   ]
  }
 ],
 "metadata": {
  "kernelspec": {
   "display_name": "Python 3 (ipykernel)",
   "language": "python",
   "name": "python3"
  },
  "language_info": {
   "codemirror_mode": {
    "name": "ipython",
    "version": 3
   },
   "file_extension": ".py",
   "mimetype": "text/x-python",
   "name": "python",
   "nbconvert_exporter": "python",
   "pygments_lexer": "ipython3",
   "version": "3.12.6"
  }
 },
 "nbformat": 4,
 "nbformat_minor": 5
}
