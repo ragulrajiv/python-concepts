{
 "cells": [
  {
   "cell_type": "markdown",
   "id": "3870ce64-8d52-40d3-9def-cac6d0358f6b",
   "metadata": {},
   "source": [
    "#### Python Arrays\n",
    "An array is a collection of elements stored in a single variable, where each element can be accessed by its index.  \n",
    "In Python, we typically use a list to represent an array."
   ]
  },
  {
   "cell_type": "code",
   "execution_count": 3,
   "id": "ac677aa0-c630-4081-b95f-bf9fa93e392f",
   "metadata": {},
   "outputs": [
    {
     "name": "stdout",
     "output_type": "stream",
     "text": [
      "1\n",
      "array('i', [3, 4])\n"
     ]
    }
   ],
   "source": [
    "import array as arr\n",
    "Eg_ar=arr.array('i',[1,2,3,4,5]) # i:type code of integers\n",
    "print(Eg_ar[0])\n",
    "print(Eg_ar[2:4])\n"
   ]
  },
  {
   "cell_type": "code",
   "execution_count": 3,
   "id": "eae1ad15-cd55-4af8-8705-c4812abacdc6",
   "metadata": {},
   "outputs": [
    {
     "name": "stdout",
     "output_type": "stream",
     "text": [
      "array('i', [1, 2, 3, 4, 5])\n",
      "array('i', [1, 10, 3, 4, 5])\n"
     ]
    }
   ],
   "source": [
    "# you can modify elements by index\n",
    "print(Eg_ar)\n",
    "Eg_ar[1]=10\n",
    "print(Eg_ar)"
   ]
  },
  {
   "cell_type": "code",
   "execution_count": 19,
   "id": "039e6e3d-a8c4-415b-bdc5-afccf31f41bf",
   "metadata": {},
   "outputs": [
    {
     "name": "stdout",
     "output_type": "stream",
     "text": [
      "array('i', [1, 2, 3, 4, 5, 7])\n",
      "array('i', [5, 1, 2, 3, 4, 5, 7])\n"
     ]
    }
   ],
   "source": [
    "#1.append, add element to the end of the array\n",
    "Eg_ar.append(7)\n",
    "print(Eg_ar)\n",
    "#2.insert elements at the specified position in the array\n",
    "Eg_ar.insert(0,5) # 0 means index position\n",
    "print(Eg_ar)"
   ]
  },
  {
   "cell_type": "code",
   "execution_count": 21,
   "id": "440e243e-59fc-4943-b30e-848cf0779dc8",
   "metadata": {},
   "outputs": [
    {
     "name": "stdout",
     "output_type": "stream",
     "text": [
      "array('i', [5, 1, 2, 3, 4, 5, 7, 11, 43, 25])\n"
     ]
    }
   ],
   "source": [
    "# 3.Extend,add 1 or more elements to the end of the array\n",
    "Eg_ar.extend([11,43,25])\n",
    "print(Eg_ar)"
   ]
  },
  {
   "cell_type": "code",
   "execution_count": 23,
   "id": "43618056-cc00-48fe-9f14-4cd8846bfc42",
   "metadata": {},
   "outputs": [
    {
     "name": "stdout",
     "output_type": "stream",
     "text": [
      "array('i', [1, 10, 3, 4, 5, 11, 43, 25])\n"
     ]
    }
   ],
   "source": [
    "# 4. remove particular element\n",
    "Eg_ar.remove(7)\n",
    "print(Eg_ar)"
   ]
  },
  {
   "cell_type": "code",
   "execution_count": 25,
   "id": "90d071ac-8e35-466f-816a-913e6f3b102e",
   "metadata": {},
   "outputs": [
    {
     "name": "stdout",
     "output_type": "stream",
     "text": [
      "array('i', [1, 10, 3, 4, 5, 11, 43])\n"
     ]
    }
   ],
   "source": [
    "#5.pop\n",
    "Eg_ar.pop() # remove last element\n",
    "print(Eg_ar)\n"
   ]
  },
  {
   "cell_type": "code",
   "execution_count": 13,
   "id": "773a20d0-32ed-4fc1-bae6-8012f6e40960",
   "metadata": {},
   "outputs": [
    {
     "name": "stdout",
     "output_type": "stream",
     "text": [
      "array('u', 'Hi')\n",
      "H\n",
      "i\n"
     ]
    }
   ],
   "source": [
    "import array\n",
    "arr=array.array('u',['H','i'])\n",
    "print(arr)\n",
    "print(arr[0])\n",
    "print(arr[1])"
   ]
  },
  {
   "cell_type": "code",
   "execution_count": 27,
   "id": "edef0c59-8b0c-4777-9fc1-2eabc4dc2262",
   "metadata": {},
   "outputs": [
    {
     "name": "stdout",
     "output_type": "stream",
     "text": [
      "array('i', [5, 1, 2, 3, 4, 5, 7, 11, 43, 25])\n",
      "8\n"
     ]
    }
   ],
   "source": [
    "#6.index, finding the index position using element\n",
    "print(Eg_ar)\n",
    "print(Eg_ar.index(43))"
   ]
  },
  {
   "cell_type": "code",
   "execution_count": 31,
   "id": "80c93b10-8b8a-49f1-b567-a0a106caae6d",
   "metadata": {},
   "outputs": [
    {
     "name": "stdout",
     "output_type": "stream",
     "text": [
      "2\n",
      "1\n"
     ]
    }
   ],
   "source": [
    "#7.count,number of occurences in particular element\n",
    "print(Eg_ar.count(5))\n",
    "print(Eg_ar.count(25))\n",
    "\n"
   ]
  },
  {
   "cell_type": "code",
   "execution_count": 35,
   "id": "41232b0a-1f0b-431f-9f2c-1eb74e62eea1",
   "metadata": {},
   "outputs": [
    {
     "name": "stdout",
     "output_type": "stream",
     "text": [
      "original array: array('i', [25, 43, 11, 7, 5, 4, 3, 2, 1, 5])\n",
      "reversed array: array('i', [5, 1, 2, 3, 4, 5, 7, 11, 43, 25])\n",
      "None\n"
     ]
    }
   ],
   "source": [
    "# 8.reverse\n",
    "print(\"original array:\",Eg_ar)\n",
    "Eg_ar.reverse()\n",
    "print(\"reversed array:\",Eg_ar)\n",
    "print(Eg_ar.reverse())"
   ]
  },
  {
   "cell_type": "code",
   "execution_count": 37,
   "id": "b44c375e-1be1-49f6-9ed0-8d9c49543197",
   "metadata": {},
   "outputs": [
    {
     "name": "stdout",
     "output_type": "stream",
     "text": [
      "original array array('i', [25, 43, 11, 7, 5, 4, 3, 2, 1, 5])\n",
      "(1367480663008, 10)\n"
     ]
    }
   ],
   "source": [
    "#9.buffer info\n",
    "print(\"original array\",Eg_ar)\n",
    "print(Eg_ar.buffer_info())"
   ]
  },
  {
   "cell_type": "code",
   "execution_count": 39,
   "id": "3ef19181-7c3c-410e-bf01-43184cf58741",
   "metadata": {},
   "outputs": [
    {
     "name": "stdout",
     "output_type": "stream",
     "text": [
      "[25, 43, 11, 7, 5, 4, 3, 2, 1, 5]\n"
     ]
    }
   ],
   "source": [
    "# 10.tolist\n",
    "print(Eg_ar.tolist())"
   ]
  },
  {
   "cell_type": "code",
   "execution_count": 43,
   "id": "391cf630-9687-4101-9516-dfa226cd5394",
   "metadata": {},
   "outputs": [
    {
     "name": "stdout",
     "output_type": "stream",
     "text": [
      "original array array('i', [25, 43, 11, 7, 5, 4, 3, 2, 1, 5])\n",
      "after removing second occurence of 5: array('i', [25, 43, 11, 7, 5, 4, 3, 2, 1])\n"
     ]
    }
   ],
   "source": [
    "# removing second occurences\n",
    "\n",
    "print(\"original array\",Eg_ar)\n",
    "def remove_second_occurence(array,value):\n",
    "    count=0\n",
    "    for i in range(len(Eg_ar)):\n",
    "        if Eg_ar[i]==value:\n",
    "            count +=1\n",
    "            if count ==2:\n",
    "                Eg_ar.pop(i)\n",
    "                break\n",
    "remove_second_occurence(Eg_ar,5)\n",
    "print(\"after removing second occurence of 5:\",Eg_ar)"
   ]
  }
 ],
 "metadata": {
  "kernelspec": {
   "display_name": "Python [conda env:base] *",
   "language": "python",
   "name": "conda-base-py"
  },
  "language_info": {
   "codemirror_mode": {
    "name": "ipython",
    "version": 3
   },
   "file_extension": ".py",
   "mimetype": "text/x-python",
   "name": "python",
   "nbconvert_exporter": "python",
   "pygments_lexer": "ipython3",
   "version": "3.12.7"
  }
 },
 "nbformat": 4,
 "nbformat_minor": 5
}
